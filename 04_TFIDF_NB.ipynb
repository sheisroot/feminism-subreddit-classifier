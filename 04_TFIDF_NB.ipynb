{
 "cells": [
  {
   "cell_type": "markdown",
   "id": "242cd3bf-8852-4df5-8fa6-347d92d1eccf",
   "metadata": {},
   "source": [
    "# 04 TFIDF vectorizer instead to find a better model"
   ]
  },
  {
   "cell_type": "code",
   "execution_count": 1,
   "id": "33f6f51a-324c-4e0a-b1dd-43a05694af84",
   "metadata": {},
   "outputs": [],
   "source": [
    "import numpy as np\n",
    "import pandas as pd\n",
    "import matplotlib.pyplot as plt\n",
    "\n",
    "from sklearn.model_selection import train_test_split, GridSearchCV\n",
    "from sklearn.pipeline import Pipeline\n",
    "\n",
    "from sklearn.naive_bayes import MultinomialNB\n",
    "from sklearn.linear_model import LogisticRegression\n",
    "# TODO more model types can be imported here if interesting\n",
    "\n",
    "from sklearn.metrics import confusion_matrix, ConfusionMatrixDisplay\n",
    "\n",
    "from sklearn.feature_extraction.text import CountVectorizer, TfidfVectorizer\n",
    "# we may choose to only optimize for Tfidf bc this structures the data with more information \n",
    "from nltk.corpus import stopwords"
   ]
  },
  {
   "cell_type": "code",
   "execution_count": 70,
   "id": "b465ba17-1eff-44cb-81e4-824075eedf5e",
   "metadata": {},
   "outputs": [
    {
     "data": {
      "text/html": [
       "<div>\n",
       "<style scoped>\n",
       "    .dataframe tbody tr th:only-of-type {\n",
       "        vertical-align: middle;\n",
       "    }\n",
       "\n",
       "    .dataframe tbody tr th {\n",
       "        vertical-align: top;\n",
       "    }\n",
       "\n",
       "    .dataframe thead th {\n",
       "        text-align: right;\n",
       "    }\n",
       "</style>\n",
       "<table border=\"1\" class=\"dataframe\">\n",
       "  <thead>\n",
       "    <tr style=\"text-align: right;\">\n",
       "      <th></th>\n",
       "      <th>created_utc</th>\n",
       "      <th>all_text</th>\n",
       "      <th>subreddit</th>\n",
       "    </tr>\n",
       "  </thead>\n",
       "  <tbody>\n",
       "    <tr>\n",
       "      <th>0</th>\n",
       "      <td>2021-01-31 16:31:41</td>\n",
       "      <td>I gave someone oral sex as a means to pacify t...</td>\n",
       "      <td>1</td>\n",
       "    </tr>\n",
       "    <tr>\n",
       "      <th>1</th>\n",
       "      <td>2023-03-22 16:14:59</td>\n",
       "      <td>The cable man took the key to my apartment\\n\\n...</td>\n",
       "      <td>1</td>\n",
       "    </tr>\n",
       "    <tr>\n",
       "      <th>2</th>\n",
       "      <td>2024-02-26 22:36:25</td>\n",
       "      <td>how do i know if im in gay love with my friend...</td>\n",
       "      <td>1</td>\n",
       "    </tr>\n",
       "    <tr>\n",
       "      <th>3</th>\n",
       "      <td>2012-08-07 22:42:45</td>\n",
       "      <td>Woman here, would someone mind clarifying some...</td>\n",
       "      <td>0</td>\n",
       "    </tr>\n",
       "    <tr>\n",
       "      <th>4</th>\n",
       "      <td>2013-01-20 14:42:18</td>\n",
       "      <td>This article about Hillary Clinton's egalitari...</td>\n",
       "      <td>0</td>\n",
       "    </tr>\n",
       "  </tbody>\n",
       "</table>\n",
       "</div>"
      ],
      "text/plain": [
       "           created_utc                                           all_text  \\\n",
       "0  2021-01-31 16:31:41  I gave someone oral sex as a means to pacify t...   \n",
       "1  2023-03-22 16:14:59  The cable man took the key to my apartment\\n\\n...   \n",
       "2  2024-02-26 22:36:25  how do i know if im in gay love with my friend...   \n",
       "3  2012-08-07 22:42:45  Woman here, would someone mind clarifying some...   \n",
       "4  2013-01-20 14:42:18  This article about Hillary Clinton's egalitari...   \n",
       "\n",
       "   subreddit  \n",
       "0          1  \n",
       "1          1  \n",
       "2          1  \n",
       "3          0  \n",
       "4          0  "
      ]
     },
     "execution_count": 70,
     "metadata": {},
     "output_type": "execute_result"
    }
   ],
   "source": [
    "# Read in data\n",
    "posts = pd.read_csv('./data/posts_cleaned.csv')\n",
    "posts.head()"
   ]
  },
  {
   "cell_type": "code",
   "execution_count": 71,
   "id": "0b123851-2771-4661-a45a-fa1c6b59bd51",
   "metadata": {},
   "outputs": [],
   "source": [
    "X = posts['all_text']\n",
    "y = posts['subreddit']\n",
    "X_train, X_test, y_train, y_test = train_test_split(X, y, random_state=42)"
   ]
  },
  {
   "cell_type": "code",
   "execution_count": 72,
   "id": "c6b836d3-b323-4aca-a42b-443dae188d73",
   "metadata": {},
   "outputs": [],
   "source": [
    "# Set up a pipeline up with two stages:\n",
    "# 1. tf-idf vectorizer (transformer)\n",
    "# 2. Multinomial Naive Bayes (estimator)\n",
    "\n",
    "pipe = Pipeline([\n",
    "    ('tvec', TfidfVectorizer()),\n",
    "    ('nb', MultinomialNB())\n",
    "])\n",
    "\n",
    "params = {\n",
    "    'tvec__stop_words': [None, 'english'],\n",
    "    'tvec__min_df': [1, 2, 3],\n",
    "    'tvec__ngram_range': [(1, 1), (1, 2)],\n",
    "    'tvec__max_features': [2000, 3000, 4000, 5000, None]\n",
    "}\n",
    "\n",
    "gs = GridSearchCV(pipe, params, n_jobs=8)"
   ]
  },
  {
   "cell_type": "code",
   "execution_count": 73,
   "id": "c38b158e-42a4-4738-bbe2-d1102f33a62b",
   "metadata": {},
   "outputs": [
    {
     "name": "stdout",
     "output_type": "stream",
     "text": [
      "CPU times: user 3.44 s, sys: 1.49 s, total: 4.93 s\n",
      "Wall time: 1min 10s\n"
     ]
    },
    {
     "data": {
      "text/html": [
       "<style>#sk-container-id-11 {color: black;background-color: white;}#sk-container-id-11 pre{padding: 0;}#sk-container-id-11 div.sk-toggleable {background-color: white;}#sk-container-id-11 label.sk-toggleable__label {cursor: pointer;display: block;width: 100%;margin-bottom: 0;padding: 0.3em;box-sizing: border-box;text-align: center;}#sk-container-id-11 label.sk-toggleable__label-arrow:before {content: \"▸\";float: left;margin-right: 0.25em;color: #696969;}#sk-container-id-11 label.sk-toggleable__label-arrow:hover:before {color: black;}#sk-container-id-11 div.sk-estimator:hover label.sk-toggleable__label-arrow:before {color: black;}#sk-container-id-11 div.sk-toggleable__content {max-height: 0;max-width: 0;overflow: hidden;text-align: left;background-color: #f0f8ff;}#sk-container-id-11 div.sk-toggleable__content pre {margin: 0.2em;color: black;border-radius: 0.25em;background-color: #f0f8ff;}#sk-container-id-11 input.sk-toggleable__control:checked~div.sk-toggleable__content {max-height: 200px;max-width: 100%;overflow: auto;}#sk-container-id-11 input.sk-toggleable__control:checked~label.sk-toggleable__label-arrow:before {content: \"▾\";}#sk-container-id-11 div.sk-estimator input.sk-toggleable__control:checked~label.sk-toggleable__label {background-color: #d4ebff;}#sk-container-id-11 div.sk-label input.sk-toggleable__control:checked~label.sk-toggleable__label {background-color: #d4ebff;}#sk-container-id-11 input.sk-hidden--visually {border: 0;clip: rect(1px 1px 1px 1px);clip: rect(1px, 1px, 1px, 1px);height: 1px;margin: -1px;overflow: hidden;padding: 0;position: absolute;width: 1px;}#sk-container-id-11 div.sk-estimator {font-family: monospace;background-color: #f0f8ff;border: 1px dotted black;border-radius: 0.25em;box-sizing: border-box;margin-bottom: 0.5em;}#sk-container-id-11 div.sk-estimator:hover {background-color: #d4ebff;}#sk-container-id-11 div.sk-parallel-item::after {content: \"\";width: 100%;border-bottom: 1px solid gray;flex-grow: 1;}#sk-container-id-11 div.sk-label:hover label.sk-toggleable__label {background-color: #d4ebff;}#sk-container-id-11 div.sk-serial::before {content: \"\";position: absolute;border-left: 1px solid gray;box-sizing: border-box;top: 0;bottom: 0;left: 50%;z-index: 0;}#sk-container-id-11 div.sk-serial {display: flex;flex-direction: column;align-items: center;background-color: white;padding-right: 0.2em;padding-left: 0.2em;position: relative;}#sk-container-id-11 div.sk-item {position: relative;z-index: 1;}#sk-container-id-11 div.sk-parallel {display: flex;align-items: stretch;justify-content: center;background-color: white;position: relative;}#sk-container-id-11 div.sk-item::before, #sk-container-id-11 div.sk-parallel-item::before {content: \"\";position: absolute;border-left: 1px solid gray;box-sizing: border-box;top: 0;bottom: 0;left: 50%;z-index: -1;}#sk-container-id-11 div.sk-parallel-item {display: flex;flex-direction: column;z-index: 1;position: relative;background-color: white;}#sk-container-id-11 div.sk-parallel-item:first-child::after {align-self: flex-end;width: 50%;}#sk-container-id-11 div.sk-parallel-item:last-child::after {align-self: flex-start;width: 50%;}#sk-container-id-11 div.sk-parallel-item:only-child::after {width: 0;}#sk-container-id-11 div.sk-dashed-wrapped {border: 1px dashed gray;margin: 0 0.4em 0.5em 0.4em;box-sizing: border-box;padding-bottom: 0.4em;background-color: white;}#sk-container-id-11 div.sk-label label {font-family: monospace;font-weight: bold;display: inline-block;line-height: 1.2em;}#sk-container-id-11 div.sk-label-container {text-align: center;}#sk-container-id-11 div.sk-container {/* jupyter's `normalize.less` sets `[hidden] { display: none; }` but bootstrap.min.css set `[hidden] { display: none !important; }` so we also need the `!important` here to be able to override the default hidden behavior on the sphinx rendered scikit-learn.org. See: https://github.com/scikit-learn/scikit-learn/issues/21755 */display: inline-block !important;position: relative;}#sk-container-id-11 div.sk-text-repr-fallback {display: none;}</style><div id=\"sk-container-id-11\" class=\"sk-top-container\"><div class=\"sk-text-repr-fallback\"><pre>GridSearchCV(estimator=Pipeline(steps=[(&#x27;tvec&#x27;, TfidfVectorizer()),\n",
       "                                       (&#x27;nb&#x27;, MultinomialNB())]),\n",
       "             n_jobs=8,\n",
       "             param_grid={&#x27;tvec__max_features&#x27;: [2000, 3000, 4000, 5000, None],\n",
       "                         &#x27;tvec__min_df&#x27;: [1, 2, 3],\n",
       "                         &#x27;tvec__ngram_range&#x27;: [(1, 1), (1, 2)],\n",
       "                         &#x27;tvec__stop_words&#x27;: [None, &#x27;english&#x27;]})</pre><b>In a Jupyter environment, please rerun this cell to show the HTML representation or trust the notebook. <br />On GitHub, the HTML representation is unable to render, please try loading this page with nbviewer.org.</b></div><div class=\"sk-container\" hidden><div class=\"sk-item sk-dashed-wrapped\"><div class=\"sk-label-container\"><div class=\"sk-label sk-toggleable\"><input class=\"sk-toggleable__control sk-hidden--visually\" id=\"sk-estimator-id-30\" type=\"checkbox\" ><label for=\"sk-estimator-id-30\" class=\"sk-toggleable__label sk-toggleable__label-arrow\">GridSearchCV</label><div class=\"sk-toggleable__content\"><pre>GridSearchCV(estimator=Pipeline(steps=[(&#x27;tvec&#x27;, TfidfVectorizer()),\n",
       "                                       (&#x27;nb&#x27;, MultinomialNB())]),\n",
       "             n_jobs=8,\n",
       "             param_grid={&#x27;tvec__max_features&#x27;: [2000, 3000, 4000, 5000, None],\n",
       "                         &#x27;tvec__min_df&#x27;: [1, 2, 3],\n",
       "                         &#x27;tvec__ngram_range&#x27;: [(1, 1), (1, 2)],\n",
       "                         &#x27;tvec__stop_words&#x27;: [None, &#x27;english&#x27;]})</pre></div></div></div><div class=\"sk-parallel\"><div class=\"sk-parallel-item\"><div class=\"sk-item\"><div class=\"sk-label-container\"><div class=\"sk-label sk-toggleable\"><input class=\"sk-toggleable__control sk-hidden--visually\" id=\"sk-estimator-id-31\" type=\"checkbox\" ><label for=\"sk-estimator-id-31\" class=\"sk-toggleable__label sk-toggleable__label-arrow\">estimator: Pipeline</label><div class=\"sk-toggleable__content\"><pre>Pipeline(steps=[(&#x27;tvec&#x27;, TfidfVectorizer()), (&#x27;nb&#x27;, MultinomialNB())])</pre></div></div></div><div class=\"sk-serial\"><div class=\"sk-item\"><div class=\"sk-serial\"><div class=\"sk-item\"><div class=\"sk-estimator sk-toggleable\"><input class=\"sk-toggleable__control sk-hidden--visually\" id=\"sk-estimator-id-32\" type=\"checkbox\" ><label for=\"sk-estimator-id-32\" class=\"sk-toggleable__label sk-toggleable__label-arrow\">TfidfVectorizer</label><div class=\"sk-toggleable__content\"><pre>TfidfVectorizer()</pre></div></div></div><div class=\"sk-item\"><div class=\"sk-estimator sk-toggleable\"><input class=\"sk-toggleable__control sk-hidden--visually\" id=\"sk-estimator-id-33\" type=\"checkbox\" ><label for=\"sk-estimator-id-33\" class=\"sk-toggleable__label sk-toggleable__label-arrow\">MultinomialNB</label><div class=\"sk-toggleable__content\"><pre>MultinomialNB()</pre></div></div></div></div></div></div></div></div></div></div></div></div>"
      ],
      "text/plain": [
       "GridSearchCV(estimator=Pipeline(steps=[('tvec', TfidfVectorizer()),\n",
       "                                       ('nb', MultinomialNB())]),\n",
       "             n_jobs=8,\n",
       "             param_grid={'tvec__max_features': [2000, 3000, 4000, 5000, None],\n",
       "                         'tvec__min_df': [1, 2, 3],\n",
       "                         'tvec__ngram_range': [(1, 1), (1, 2)],\n",
       "                         'tvec__stop_words': [None, 'english']})"
      ]
     },
     "execution_count": 73,
     "metadata": {},
     "output_type": "execute_result"
    }
   ],
   "source": [
    "%%time\n",
    "gs.fit(X_train, y_train)"
   ]
  },
  {
   "cell_type": "code",
   "execution_count": 78,
   "id": "1f4eafc1-7d17-425c-b94a-c0a3bad2fe1b",
   "metadata": {},
   "outputs": [
    {
     "data": {
      "text/plain": [
       "0.8565276518585675"
      ]
     },
     "execution_count": 78,
     "metadata": {},
     "output_type": "execute_result"
    }
   ],
   "source": [
    "gs.score(X_train, y_train)"
   ]
  },
  {
   "cell_type": "code",
   "execution_count": 79,
   "id": "36a3196d-79b3-46eb-9dab-ae0ce74ef685",
   "metadata": {},
   "outputs": [
    {
     "data": {
      "text/plain": [
       "0.7845003399048266"
      ]
     },
     "execution_count": 79,
     "metadata": {},
     "output_type": "execute_result"
    }
   ],
   "source": [
    "gs.score(X_test, y_test)"
   ]
  },
  {
   "cell_type": "code",
   "execution_count": null,
   "id": "7454578d-71c6-48a2-b13b-5ebe979f1f77",
   "metadata": {},
   "outputs": [],
   "source": []
  },
  {
   "cell_type": "code",
   "execution_count": 11,
   "id": "a73816ae-2a2e-463d-827c-b7ede7c03cdf",
   "metadata": {},
   "outputs": [
    {
     "data": {
      "text/html": [
       "<div>\n",
       "<style scoped>\n",
       "    .dataframe tbody tr th:only-of-type {\n",
       "        vertical-align: middle;\n",
       "    }\n",
       "\n",
       "    .dataframe tbody tr th {\n",
       "        vertical-align: top;\n",
       "    }\n",
       "\n",
       "    .dataframe thead th {\n",
       "        text-align: right;\n",
       "    }\n",
       "</style>\n",
       "<table border=\"1\" class=\"dataframe\">\n",
       "  <thead>\n",
       "    <tr style=\"text-align: right;\">\n",
       "      <th></th>\n",
       "      <th>param_tvec__max_features</th>\n",
       "      <th>param_tvec__min_df</th>\n",
       "      <th>param_tvec__ngram_range</th>\n",
       "      <th>param_tvec__stop_words</th>\n",
       "      <th>params</th>\n",
       "      <th>split0_test_score</th>\n",
       "      <th>split1_test_score</th>\n",
       "      <th>split2_test_score</th>\n",
       "      <th>split3_test_score</th>\n",
       "      <th>split4_test_score</th>\n",
       "      <th>mean_test_score</th>\n",
       "      <th>std_test_score</th>\n",
       "      <th>rank_test_score</th>\n",
       "    </tr>\n",
       "  </thead>\n",
       "  <tbody>\n",
       "    <tr>\n",
       "      <th>43</th>\n",
       "      <td>5000</td>\n",
       "      <td>2</td>\n",
       "      <td>(1, 2)</td>\n",
       "      <td>english</td>\n",
       "      <td>{'tvec__max_features': 5000, 'tvec__min_df': 2...</td>\n",
       "      <td>0.812005</td>\n",
       "      <td>0.779162</td>\n",
       "      <td>0.803855</td>\n",
       "      <td>0.786848</td>\n",
       "      <td>0.765306</td>\n",
       "      <td>0.789435</td>\n",
       "      <td>0.016803</td>\n",
       "      <td>1</td>\n",
       "    </tr>\n",
       "    <tr>\n",
       "      <th>47</th>\n",
       "      <td>5000</td>\n",
       "      <td>3</td>\n",
       "      <td>(1, 2)</td>\n",
       "      <td>english</td>\n",
       "      <td>{'tvec__max_features': 5000, 'tvec__min_df': 3...</td>\n",
       "      <td>0.809740</td>\n",
       "      <td>0.781427</td>\n",
       "      <td>0.807256</td>\n",
       "      <td>0.785714</td>\n",
       "      <td>0.759637</td>\n",
       "      <td>0.788755</td>\n",
       "      <td>0.018403</td>\n",
       "      <td>2</td>\n",
       "    </tr>\n",
       "    <tr>\n",
       "      <th>39</th>\n",
       "      <td>5000</td>\n",
       "      <td>1</td>\n",
       "      <td>(1, 2)</td>\n",
       "      <td>english</td>\n",
       "      <td>{'tvec__max_features': 5000, 'tvec__min_df': 1...</td>\n",
       "      <td>0.809740</td>\n",
       "      <td>0.780294</td>\n",
       "      <td>0.803855</td>\n",
       "      <td>0.787982</td>\n",
       "      <td>0.760771</td>\n",
       "      <td>0.788528</td>\n",
       "      <td>0.017455</td>\n",
       "      <td>3</td>\n",
       "    </tr>\n",
       "    <tr>\n",
       "      <th>31</th>\n",
       "      <td>4000</td>\n",
       "      <td>2</td>\n",
       "      <td>(1, 2)</td>\n",
       "      <td>english</td>\n",
       "      <td>{'tvec__max_features': 4000, 'tvec__min_df': 2...</td>\n",
       "      <td>0.812005</td>\n",
       "      <td>0.782559</td>\n",
       "      <td>0.797052</td>\n",
       "      <td>0.790249</td>\n",
       "      <td>0.760771</td>\n",
       "      <td>0.788527</td>\n",
       "      <td>0.016928</td>\n",
       "      <td>4</td>\n",
       "    </tr>\n",
       "    <tr>\n",
       "      <th>35</th>\n",
       "      <td>4000</td>\n",
       "      <td>3</td>\n",
       "      <td>(1, 2)</td>\n",
       "      <td>english</td>\n",
       "      <td>{'tvec__max_features': 4000, 'tvec__min_df': 3...</td>\n",
       "      <td>0.809740</td>\n",
       "      <td>0.780294</td>\n",
       "      <td>0.799320</td>\n",
       "      <td>0.790249</td>\n",
       "      <td>0.759637</td>\n",
       "      <td>0.787848</td>\n",
       "      <td>0.017144</td>\n",
       "      <td>5</td>\n",
       "    </tr>\n",
       "  </tbody>\n",
       "</table>\n",
       "</div>"
      ],
      "text/plain": [
       "   param_tvec__max_features param_tvec__min_df param_tvec__ngram_range  \\\n",
       "43                     5000                  2                  (1, 2)   \n",
       "47                     5000                  3                  (1, 2)   \n",
       "39                     5000                  1                  (1, 2)   \n",
       "31                     4000                  2                  (1, 2)   \n",
       "35                     4000                  3                  (1, 2)   \n",
       "\n",
       "   param_tvec__stop_words                                             params  \\\n",
       "43                english  {'tvec__max_features': 5000, 'tvec__min_df': 2...   \n",
       "47                english  {'tvec__max_features': 5000, 'tvec__min_df': 3...   \n",
       "39                english  {'tvec__max_features': 5000, 'tvec__min_df': 1...   \n",
       "31                english  {'tvec__max_features': 4000, 'tvec__min_df': 2...   \n",
       "35                english  {'tvec__max_features': 4000, 'tvec__min_df': 3...   \n",
       "\n",
       "    split0_test_score  split1_test_score  split2_test_score  \\\n",
       "43           0.812005           0.779162           0.803855   \n",
       "47           0.809740           0.781427           0.807256   \n",
       "39           0.809740           0.780294           0.803855   \n",
       "31           0.812005           0.782559           0.797052   \n",
       "35           0.809740           0.780294           0.799320   \n",
       "\n",
       "    split3_test_score  split4_test_score  mean_test_score  std_test_score  \\\n",
       "43           0.786848           0.765306         0.789435        0.016803   \n",
       "47           0.785714           0.759637         0.788755        0.018403   \n",
       "39           0.787982           0.760771         0.788528        0.017455   \n",
       "31           0.790249           0.760771         0.788527        0.016928   \n",
       "35           0.790249           0.759637         0.787848        0.017144   \n",
       "\n",
       "    rank_test_score  \n",
       "43                1  \n",
       "47                2  \n",
       "39                3  \n",
       "31                4  \n",
       "35                5  "
      ]
     },
     "execution_count": 11,
     "metadata": {},
     "output_type": "execute_result"
    }
   ],
   "source": [
    "pd.DataFrame(gs.cv_results_).sort_values('mean_test_score', ascending=False).iloc[:5, 4:]"
   ]
  },
  {
   "cell_type": "markdown",
   "id": "e59afbf9-c083-4955-bfef-3284986f9129",
   "metadata": {},
   "source": [
    "The kind of vectorizer did not improve the overall model score very much.  We seek a better classification model type than Multinomial Naive Bayes. We will try LogisticRegression"
   ]
  },
  {
   "cell_type": "code",
   "execution_count": 80,
   "id": "fa7a0e20-4b0a-4428-a526-30bb104a07ca",
   "metadata": {},
   "outputs": [
    {
     "data": {
      "text/plain": [
       "{'tvec__max_features': 5000,\n",
       " 'tvec__min_df': 1,\n",
       " 'tvec__ngram_range': (1, 2),\n",
       " 'tvec__stop_words': 'english'}"
      ]
     },
     "execution_count": 80,
     "metadata": {},
     "output_type": "execute_result"
    }
   ],
   "source": [
    "gs.best_params_"
   ]
  },
  {
   "cell_type": "code",
   "execution_count": 81,
   "id": "404218d9-2960-46be-be06-2f5330f07fb4",
   "metadata": {},
   "outputs": [
    {
     "data": {
      "text/plain": [
       "array(['young people', 'young woman', 'young women', 'younger', 'youth',\n",
       "       'youtu', 'youtube', 'youtube com', 'yrs', 'zero'], dtype=object)"
      ]
     },
     "execution_count": 81,
     "metadata": {},
     "output_type": "execute_result"
    }
   ],
   "source": [
    "gs.best_estimator_[0].get_feature_names_out()[-10:]"
   ]
  },
  {
   "cell_type": "code",
   "execution_count": 69,
   "id": "064bf710-0d26-4ea6-bcb3-16de36293392",
   "metadata": {},
   "outputs": [
    {
     "data": {
      "text/html": [
       "<div>\n",
       "<style scoped>\n",
       "    .dataframe tbody tr th:only-of-type {\n",
       "        vertical-align: middle;\n",
       "    }\n",
       "\n",
       "    .dataframe tbody tr th {\n",
       "        vertical-align: top;\n",
       "    }\n",
       "\n",
       "    .dataframe thead th {\n",
       "        text-align: right;\n",
       "    }\n",
       "</style>\n",
       "<table border=\"1\" class=\"dataframe\">\n",
       "  <thead>\n",
       "    <tr style=\"text-align: right;\">\n",
       "      <th></th>\n",
       "      <th>created_utc</th>\n",
       "      <th>all_text</th>\n",
       "      <th>subreddit</th>\n",
       "    </tr>\n",
       "  </thead>\n",
       "  <tbody>\n",
       "    <tr>\n",
       "      <th>1228</th>\n",
       "      <td>2021-03-24 14:10:52</td>\n",
       "      <td>New Zealand Parliament unanimously passes bere...</td>\n",
       "      <td>1</td>\n",
       "    </tr>\n",
       "    <tr>\n",
       "      <th>1281</th>\n",
       "      <td>2020-06-25 19:33:49</td>\n",
       "      <td>Supermarket in New Zealand to ditch terms like...</td>\n",
       "      <td>1</td>\n",
       "    </tr>\n",
       "    <tr>\n",
       "      <th>1285</th>\n",
       "      <td>2020-03-19 10:16:38</td>\n",
       "      <td>New Zealand's parliament has passed a bill dec...</td>\n",
       "      <td>1</td>\n",
       "    </tr>\n",
       "    <tr>\n",
       "      <th>1297</th>\n",
       "      <td>2021-02-18 00:38:27</td>\n",
       "      <td>New Zealand's Jacinda Ardern announces the Gov...</td>\n",
       "      <td>1</td>\n",
       "    </tr>\n",
       "    <tr>\n",
       "      <th>1445</th>\n",
       "      <td>2020-03-18 07:57:52</td>\n",
       "      <td>Abortion legalised in New Zealand with Parliam...</td>\n",
       "      <td>1</td>\n",
       "    </tr>\n",
       "    <tr>\n",
       "      <th>1491</th>\n",
       "      <td>2018-06-21 06:58:50</td>\n",
       "      <td>New Zealand Prime Minister Jacinda Ardern beco...</td>\n",
       "      <td>1</td>\n",
       "    </tr>\n",
       "    <tr>\n",
       "      <th>3352</th>\n",
       "      <td>2024-02-13 06:15:15</td>\n",
       "      <td>New Zealand Justice Committee is going to tabl...</td>\n",
       "      <td>0</td>\n",
       "    </tr>\n",
       "  </tbody>\n",
       "</table>\n",
       "</div>"
      ],
      "text/plain": [
       "              created_utc                                           all_text  \\\n",
       "1228  2021-03-24 14:10:52  New Zealand Parliament unanimously passes bere...   \n",
       "1281  2020-06-25 19:33:49  Supermarket in New Zealand to ditch terms like...   \n",
       "1285  2020-03-19 10:16:38  New Zealand's parliament has passed a bill dec...   \n",
       "1297  2021-02-18 00:38:27  New Zealand's Jacinda Ardern announces the Gov...   \n",
       "1445  2020-03-18 07:57:52  Abortion legalised in New Zealand with Parliam...   \n",
       "1491  2018-06-21 06:58:50  New Zealand Prime Minister Jacinda Ardern beco...   \n",
       "3352  2024-02-13 06:15:15  New Zealand Justice Committee is going to tabl...   \n",
       "\n",
       "      subreddit  \n",
       "1228          1  \n",
       "1281          1  \n",
       "1285          1  \n",
       "1297          1  \n",
       "1445          1  \n",
       "1491          1  \n",
       "3352          0  "
      ]
     },
     "execution_count": 69,
     "metadata": {},
     "output_type": "execute_result"
    }
   ],
   "source": [
    "posts[posts['all_text'].str.lower().str.contains('zealand')]"
   ]
  },
  {
   "cell_type": "code",
   "execution_count": 66,
   "id": "18c044e6-8e03-460f-a468-4c508d41304f",
   "metadata": {},
   "outputs": [
    {
     "data": {
      "text/plain": [
       "0       What are some fashion choices men have given y...\n",
       "1       I feel insane - IUD stories? \\n\\nHi all, I hav...\n",
       "2       questions for anyone with the birth control ar...\n",
       "3       Running Through Fear: Kosovar Women Jog In Gro...\n",
       "4       I’m so sick of the low effort men put into the...\n",
       "                              ...                        \n",
       "5878    The Physical and Psychological Differences Bet...\n",
       "5879    FB yielded a good example of the double standa...\n",
       "5880    Incident at work today (not a discrimination i...\n",
       "5881    As a woman,\\n\\nI really want to support your m...\n",
       "5882    \"Dead-Beat Dads\" is a myth....\\n\\n A long time...\n",
       "Name: all_text, Length: 5883, dtype: object"
      ]
     },
     "execution_count": 66,
     "metadata": {},
     "output_type": "execute_result"
    }
   ],
   "source": [
    "posts['all_text'] # .str.lower()"
   ]
  },
  {
   "cell_type": "markdown",
   "id": "a5c8174b-f5c9-48d2-9c73-2aed38962f5b",
   "metadata": {},
   "source": [
    "## Use a logistic regression to see if we find a better model"
   ]
  },
  {
   "cell_type": "code",
   "execution_count": null,
   "id": "95ddaaed-8294-4f04-ac79-5e38f36be50e",
   "metadata": {},
   "outputs": [],
   "source": [
    "# make the features from some tokenizer strategy\n",
    "# fit to logreg\n",
    "# examine score"
   ]
  }
 ],
 "metadata": {
  "kernelspec": {
   "display_name": "Python 3 (ipykernel)",
   "language": "python",
   "name": "python3"
  },
  "language_info": {
   "codemirror_mode": {
    "name": "ipython",
    "version": 3
   },
   "file_extension": ".py",
   "mimetype": "text/x-python",
   "name": "python",
   "nbconvert_exporter": "python",
   "pygments_lexer": "ipython3",
   "version": "3.11.5"
  }
 },
 "nbformat": 4,
 "nbformat_minor": 5
}
