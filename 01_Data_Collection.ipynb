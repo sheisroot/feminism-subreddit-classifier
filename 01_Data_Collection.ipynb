{
 "cells": [
  {
   "cell_type": "markdown",
   "id": "962bea09-03af-4c47-9899-ab29fc189790",
   "metadata": {},
   "source": [
    "# 01 - Data collection (and automation) from Reddit"
   ]
  },
  {
   "cell_type": "code",
   "execution_count": 46,
   "id": "d896c206-9b0e-4496-9c30-4cab3cf25308",
   "metadata": {},
   "outputs": [],
   "source": [
    "# import numpy as np\n",
    "import pandas as pd\n",
    "# import matplotlib.pyplot as plt\n",
    "\n",
    "import praw\n"
   ]
  },
  {
   "cell_type": "code",
   "execution_count": 8,
   "id": "c117b305-dd8b-40b5-95b5-455f19bad77e",
   "metadata": {},
   "outputs": [],
   "source": [
    "# Credentials\n",
    "reddit = praw.Reddit(\n",
    "    client_id='E_FrurAX47RmpJvrUl-gjA',\n",
    "    client_secret='XOBwQG1wO3WG3XqOO4PXqSlbfnfcnw',\n",
    "    user_agent='Faye-dune-popcorn-bucket',\n",
    "    username='New-Veterinarian744',\n",
    "    password='e2-5Jns9TBg*Y.F'\n",
    ")"
   ]
  },
  {
   "cell_type": "code",
   "execution_count": 9,
   "id": "8356f179-f006-448d-97c6-7f81ab1ac275",
   "metadata": {},
   "outputs": [],
   "source": [
    "# Multiple subreddits\n",
    "two_x = 'TwoXChromosomes'\n",
    "mrm = 'MensRights'\n",
    "\n",
    "subreddit_two_x = reddit.subreddit(two_x)\n",
    "subreddit_mrm = reddit.subreddit(mrm)"
   ]
  },
  {
   "cell_type": "code",
   "execution_count": 27,
   "id": "9d1e2eee-9f31-4921-8c14-068c0c14a66e",
   "metadata": {},
   "outputs": [],
   "source": [
    "# Max 100 posts per request\n",
    "# Make multiple calls with wait times (e.g. sleep)\n",
    "# ROWAN did I handle server rate limits correctly\n",
    "posts_new = subreddit_two_x.new(limit=1000)\n",
    "posts_top = subreddit_two_x.top(limit=1000)\n",
    "posts_hot = subreddit_two_x.hot(limit=1000)\n",
    "posts_contr = subreddit_two_x.controversial(limit=1000)"
   ]
  },
  {
   "cell_type": "code",
   "execution_count": 39,
   "id": "c4f92083-20cb-4b45-8d90-5017a2ccb939",
   "metadata": {},
   "outputs": [],
   "source": [
    "posts_new = subreddit_mrm.new(limit=1000)\n",
    "posts_top = subreddit_mrm.top(limit=1000)\n",
    "posts_hot = subreddit_mrm.hot(limit=1000)\n",
    "posts_contr = subreddit_mrm.controversial(limit=1000)"
   ]
  },
  {
   "cell_type": "code",
   "execution_count": 28,
   "id": "336e3214-470e-4a07-8a79-eb44e5c268da",
   "metadata": {},
   "outputs": [],
   "source": [
    "# data = {} # Try collecting as a set to throw out duplicates\n",
    "# for post in posts_new:\n",
    "#     data.add([post.created_utc, post.title, post.selftext, post.subreddit])\n",
    "\n",
    "# # Turn into a dataframe\n",
    "# df_reddit = pd.DataFrame(data, columns = ['created_utc', 'title', 'self_text', 'subreddit'])\n"
   ]
  },
  {
   "cell_type": "code",
   "execution_count": 48,
   "id": "7eecf04e-f5a4-44f7-9a3c-0b0bd02424e3",
   "metadata": {},
   "outputs": [],
   "source": [
    "# ROWAN should we collect comments as well\n",
    "# refactor code to move stuff into this def\n",
    "\n",
    "def collect_posts(my_posts, data_set):\n",
    "    for post in my_posts:\n",
    "        data.append([post.created_utc, post.title, post.selftext, post.subreddit])"
   ]
  },
  {
   "cell_type": "code",
   "execution_count": 40,
   "id": "f5afcc36-b335-48fb-9c42-ee6ffb44c912",
   "metadata": {},
   "outputs": [],
   "source": [
    "data = []\n",
    "posts_list = [posts_new, posts_hot, posts_top, posts_contr]\n",
    "\n",
    "for p in posts_list:\n",
    "    collect_posts(p, data)"
   ]
  },
  {
   "cell_type": "code",
   "execution_count": 41,
   "id": "d2116ad6-d7b5-4c31-aad3-a003e4ab737e",
   "metadata": {},
   "outputs": [
    {
     "data": {
      "text/html": [
       "<div>\n",
       "<style scoped>\n",
       "    .dataframe tbody tr th:only-of-type {\n",
       "        vertical-align: middle;\n",
       "    }\n",
       "\n",
       "    .dataframe tbody tr th {\n",
       "        vertical-align: top;\n",
       "    }\n",
       "\n",
       "    .dataframe thead th {\n",
       "        text-align: right;\n",
       "    }\n",
       "</style>\n",
       "<table border=\"1\" class=\"dataframe\">\n",
       "  <thead>\n",
       "    <tr style=\"text-align: right;\">\n",
       "      <th></th>\n",
       "      <th>created_utc</th>\n",
       "      <th>title</th>\n",
       "      <th>self_text</th>\n",
       "      <th>subreddit</th>\n",
       "    </tr>\n",
       "  </thead>\n",
       "  <tbody>\n",
       "    <tr>\n",
       "      <th>0</th>\n",
       "      <td>1.709275e+09</td>\n",
       "      <td>Are girls welcome here?</td>\n",
       "      <td>Interesting to see men's perspective and might...</td>\n",
       "      <td>MensRights</td>\n",
       "    </tr>\n",
       "    <tr>\n",
       "      <th>1</th>\n",
       "      <td>1.709258e+09</td>\n",
       "      <td>SO Sick Of Hearing About The \"Patriarchy\"</td>\n",
       "      <td>I'm sure I'm far from the only one here who's ...</td>\n",
       "      <td>MensRights</td>\n",
       "    </tr>\n",
       "    <tr>\n",
       "      <th>2</th>\n",
       "      <td>1.709262e+09</td>\n",
       "      <td>Defamed on \"Are We Dating the Same Guy\" Group ...</td>\n",
       "      <td>Fellas, I need advice. My situation is not uni...</td>\n",
       "      <td>MensRights</td>\n",
       "    </tr>\n",
       "    <tr>\n",
       "      <th>3</th>\n",
       "      <td>1.709264e+09</td>\n",
       "      <td>Australian judges call-out NSW Office of the D...</td>\n",
       "      <td>A NSW District Court judge has launched a scat...</td>\n",
       "      <td>MensRights</td>\n",
       "    </tr>\n",
       "    <tr>\n",
       "      <th>4</th>\n",
       "      <td>1.709261e+09</td>\n",
       "      <td>Fresno County, CA - “500 a month” only for tho...</td>\n",
       "      <td>So Fresno county is going for a “universal inc...</td>\n",
       "      <td>MensRights</td>\n",
       "    </tr>\n",
       "  </tbody>\n",
       "</table>\n",
       "</div>"
      ],
      "text/plain": [
       "    created_utc                                              title  \\\n",
       "0  1.709275e+09                            Are girls welcome here?   \n",
       "1  1.709258e+09          SO Sick Of Hearing About The \"Patriarchy\"   \n",
       "2  1.709262e+09  Defamed on \"Are We Dating the Same Guy\" Group ...   \n",
       "3  1.709264e+09  Australian judges call-out NSW Office of the D...   \n",
       "4  1.709261e+09  Fresno County, CA - “500 a month” only for tho...   \n",
       "\n",
       "                                           self_text   subreddit  \n",
       "0  Interesting to see men's perspective and might...  MensRights  \n",
       "1  I'm sure I'm far from the only one here who's ...  MensRights  \n",
       "2  Fellas, I need advice. My situation is not uni...  MensRights  \n",
       "3  A NSW District Court judge has launched a scat...  MensRights  \n",
       "4  So Fresno county is going for a “universal inc...  MensRights  "
      ]
     },
     "execution_count": 41,
     "metadata": {},
     "output_type": "execute_result"
    }
   ],
   "source": [
    "df_reddit = pd.DataFrame(data, columns = ['created_utc', 'title', 'self_text', 'subreddit'])\n",
    "df_reddit.head()\n",
    "\n",
    "\n",
    "\n",
    "# check for duplicates in df"
   ]
  },
  {
   "cell_type": "code",
   "execution_count": 42,
   "id": "82bbd8b2-122b-4456-8620-26b2a3bad78a",
   "metadata": {},
   "outputs": [
    {
     "data": {
      "text/plain": [
       "(3846, 4)"
      ]
     },
     "execution_count": 42,
     "metadata": {},
     "output_type": "execute_result"
    }
   ],
   "source": [
    "df_reddit.shape"
   ]
  },
  {
   "cell_type": "code",
   "execution_count": 43,
   "id": "435f35df-f6c4-4d5f-bfab-75df3f0c1dff",
   "metadata": {},
   "outputs": [
    {
     "data": {
      "text/plain": [
       "(2917, 4)"
      ]
     },
     "execution_count": 43,
     "metadata": {},
     "output_type": "execute_result"
    }
   ],
   "source": [
    "reduced = df_reddit.drop_duplicates(subset=['created_utc', 'title'])\n",
    "reduced.shape"
   ]
  },
  {
   "cell_type": "code",
   "execution_count": 38,
   "id": "f79a5cbe-d023-4dad-b9e0-f7b472eb6819",
   "metadata": {},
   "outputs": [],
   "source": [
    "reduced.to_csv('./data/two_x.csv', index=False)"
   ]
  },
  {
   "cell_type": "code",
   "execution_count": 44,
   "id": "60640a3f-3f47-4d72-be04-adf2927c5414",
   "metadata": {},
   "outputs": [],
   "source": [
    "reduced.to_csv('./data/mrm.csv', index=False)"
   ]
  },
  {
   "cell_type": "markdown",
   "id": "e8f915fd-f0cf-4d38-9b47-cfb30a99ef07",
   "metadata": {},
   "source": [
    "### Are there more ways to collect more posts?"
   ]
  },
  {
   "cell_type": "code",
   "execution_count": null,
   "id": "f8e96941-901b-4b66-9fd4-00b25df1727a",
   "metadata": {},
   "outputs": [],
   "source": [
    "# can possibly scrape more data by specifying filter keywords\n",
    "# but it may create underlying correlations\n",
    "# can set a time_filter to slightly change the time bounds 'month', 'week', 'year', default='all'\n",
    "\n"
   ]
  },
  {
   "cell_type": "code",
   "execution_count": 45,
   "id": "0be1f599-bca5-4f32-acdb-a9dccdee6fcd",
   "metadata": {},
   "outputs": [],
   "source": [
    "# time_filter\n",
    "# posts_new = subreddit_two_x.new(limit=1000)\n",
    "# posts_top = subreddit_two_x.top(limit=1000)\n",
    "# posts_hot = subreddit_two_x.hot(limit=1000)\n",
    "posts_contr = subreddit_two_x.controversial(time_filter='year', limit=1000)\n",
    "\n",
    "# rising, random_rising, search\n",
    "# posts_"
   ]
  },
  {
   "cell_type": "markdown",
   "id": "6bd14744-dd3f-4acb-85e9-bacc0b1ef5d9",
   "metadata": {},
   "source": [
    "### Cleanup:"
   ]
  },
  {
   "cell_type": "code",
   "execution_count": 47,
   "id": "0007dce4-d16e-45c3-9d2c-11034299f510",
   "metadata": {},
   "outputs": [],
   "source": [
    "# ROWAN how would we use automation/pipelines to optimize data collection\n",
    "# could move this code to a .py script and specify a cron job"
   ]
  },
  {
   "cell_type": "code",
   "execution_count": null,
   "id": "fa4cbac8-9262-450a-a8c7-bbcbfc4bda8e",
   "metadata": {},
   "outputs": [],
   "source": []
  }
 ],
 "metadata": {
  "kernelspec": {
   "display_name": "Python 3 (ipykernel)",
   "language": "python",
   "name": "python3"
  },
  "language_info": {
   "codemirror_mode": {
    "name": "ipython",
    "version": 3
   },
   "file_extension": ".py",
   "mimetype": "text/x-python",
   "name": "python",
   "nbconvert_exporter": "python",
   "pygments_lexer": "ipython3",
   "version": "3.11.5"
  }
 },
 "nbformat": 4,
 "nbformat_minor": 5
}
