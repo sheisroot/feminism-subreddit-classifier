


import numpy as np
import pandas as pd


# Merge dataframes
twox = pd.read_csv('./data/two_x.csv')
mrm = pd.read_csv('./data/mrm.csv')

posts = pd.concat([twox, mrm], ignore_index=True)


posts.tail()


print(posts.dtypes)


# Clean up the NaN values
# in this case, valuable info is in the title
# sometimes self text is brief and the key info is in the self_text
# TODO: so we should include titles in the analysis
# twox['self_text'] = twox['self_text'].fillna('')


posts['self_text'].isna().sum()


posts['self_text'] = posts['self_text'].fillna('')


# convert utc to datetime

posts['created_utc'] = pd.to_datetime(posts['created_utc'], unit='s')
posts.dtypes


posts.isna().sum()


posts.to_csv('./data/posts_cleaned.csv', index=False)


# ROWAN what other kinds of EDA make sense - check on titanic lab
# TODO drop rows where post has been removed
# Repeat cleaning for MRM
# then export cleaned csvs
