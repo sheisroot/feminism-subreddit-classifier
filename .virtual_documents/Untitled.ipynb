


import numpy as np
import pandas as pd
import matplotlib.pyplot as plt




# Merge dataframes
df_twox = pd.read_csv('./data/two_x.csv')
df_mrm = pd.read_csv('./data/mrm.csv')

posts = pd.concat([df_twox, df_mrm], ignore_index=True)


posts.tail()



