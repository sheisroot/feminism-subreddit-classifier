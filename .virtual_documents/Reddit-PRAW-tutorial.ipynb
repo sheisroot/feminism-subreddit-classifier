


#!pip install praw
import praw














reddit = praw.Reddit(
    client_id='E_FrurAX47RmpJvrUl-gjA',
    client_secret='XOBwQG1wO3WG3XqOO4PXqSlbfnfcnw',
    user_agent='Faye-dune-popcorn-bucket',
    username='New-Veterinarian744',
    password='e2-5Jns9TBg*Y.F'
)














# Below is JUST an example of how you can use PRAW

# Choose your subreddit
subreddit = reddit.subreddit('boardgames')

# Adjust the limit as needed -- Note that this will grab the 25 most recent posts
posts = subreddit.new(limit=25)





import pandas as pd

data = []
for post in posts:
    data.append([post.created_utc, post.title, post.selftext, post.subreddit])

# Turn into a dataframe
boardgames = pd.DataFrame(data, columns = ['created_utc', 'title', 'self_text', 'subreddit'])
boardgames.head()









