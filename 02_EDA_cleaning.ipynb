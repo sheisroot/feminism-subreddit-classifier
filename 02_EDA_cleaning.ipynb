{
 "cells": [
  {
   "cell_type": "markdown",
   "id": "57a1ec1d-87dc-4ff2-b283-46283b5f13e6",
   "metadata": {},
   "source": [
    "# 02 - EDA and cleaning"
   ]
  },
  {
   "cell_type": "code",
   "execution_count": 87,
   "id": "11ed0650-26c9-45ee-a15b-d5ffb8edac1e",
   "metadata": {},
   "outputs": [],
   "source": [
    "import numpy as np\n",
    "import pandas as pd\n",
    "import matplotlib.pyplot as plt\n",
    "\n"
   ]
  },
  {
   "cell_type": "code",
   "execution_count": 88,
   "id": "09db4b92-40b5-44bc-b7fe-201f57a39028",
   "metadata": {},
   "outputs": [],
   "source": [
    "# Merge dataframes\n",
    "twox = pd.read_csv('./data/two_x.csv')\n",
    "mrm = pd.read_csv('./data/mrm.csv')\n",
    "\n",
    "posts = pd.concat([twox, mrm], ignore_index=True)"
   ]
  },
  {
   "cell_type": "code",
   "execution_count": 120,
   "id": "b1e0826d-b0df-44f1-953e-55454e065238",
   "metadata": {},
   "outputs": [
    {
     "name": "stdout",
     "output_type": "stream",
     "text": [
      "created_utc    float64\n",
      "title           object\n",
      "self_text       object\n",
      "subreddit       object\n",
      "dtype: object\n"
     ]
    }
   ],
   "source": [
    "posts.head()\n",
    "print(posts.dtypes)"
   ]
  },
  {
   "cell_type": "code",
   "execution_count": 90,
   "id": "9508017a-7d60-4df4-8b0b-bbbc6ef4067e",
   "metadata": {},
   "outputs": [],
   "source": [
    "# Clean up the NaN values\n",
    "# in this case, valuable info is in the title\n",
    "# sometimes self text is brief and the key info is in the self_text\n",
    "# TODO: so we should include titles in the analysis\n",
    "twox['self_text'] = twox['self_text'].fillna('')"
   ]
  },
  {
   "cell_type": "code",
   "execution_count": 91,
   "id": "b4f91789-e13f-4909-b052-838667e2917a",
   "metadata": {},
   "outputs": [],
   "source": [
    "full_text = '\\n\\n'.join(twox['self_text'])"
   ]
  },
  {
   "cell_type": "code",
   "execution_count": 92,
   "id": "e2b70cbf-01eb-4e3f-a90e-319e91311ab8",
   "metadata": {},
   "outputs": [
    {
     "data": {
      "text/plain": [
       "I       21838\n",
       "to      17872\n",
       "and     16959\n",
       "the     15138\n",
       "a       12687\n",
       "        ...  \n",
       "It        807\n",
       "But       801\n",
       "much      795\n",
       "very      786\n",
       "any       784\n",
       "Name: count, Length: 100, dtype: int64"
      ]
     },
     "execution_count": 92,
     "metadata": {},
     "output_type": "execute_result"
    }
   ],
   "source": [
    "# Count the most frequent words\n",
    "# adapted from https://stackoverflow.com/questions/29903025/count-most-frequent-100-words-from-sentences-in-dataframe-pandas\n",
    "pd.Series(full_text.split()).value_counts()[:100]"
   ]
  },
  {
   "cell_type": "code",
   "execution_count": 93,
   "id": "ae1d70a0-5f15-4c1f-9e29-c68f1256baed",
   "metadata": {},
   "outputs": [
    {
     "data": {
      "text/plain": [
       "0"
      ]
     },
     "execution_count": 93,
     "metadata": {},
     "output_type": "execute_result"
    }
   ],
   "source": [
    "twox['title'].isna().sum() # titles are always required, no nulls\n",
    "\n",
    "#= twox['self_text'].fillna('')"
   ]
  },
  {
   "cell_type": "code",
   "execution_count": 126,
   "id": "b9f41a6e-6d40-48e5-be67-5b22d35556d1",
   "metadata": {},
   "outputs": [],
   "source": [
    "# convert utc to datetime\n",
    "\n",
    "twox['created_utc'] = pd.to_datetime(posts['created_utc'][3], unit='s')"
   ]
  },
  {
   "cell_type": "code",
   "execution_count": 127,
   "id": "b5613c7f-9258-47de-bf01-4c3ad288f179",
   "metadata": {},
   "outputs": [
    {
     "data": {
      "text/html": [
       "<div>\n",
       "<style scoped>\n",
       "    .dataframe tbody tr th:only-of-type {\n",
       "        vertical-align: middle;\n",
       "    }\n",
       "\n",
       "    .dataframe tbody tr th {\n",
       "        vertical-align: top;\n",
       "    }\n",
       "\n",
       "    .dataframe thead th {\n",
       "        text-align: right;\n",
       "    }\n",
       "</style>\n",
       "<table border=\"1\" class=\"dataframe\">\n",
       "  <thead>\n",
       "    <tr style=\"text-align: right;\">\n",
       "      <th></th>\n",
       "      <th>created_utc</th>\n",
       "      <th>title</th>\n",
       "      <th>self_text</th>\n",
       "      <th>subreddit</th>\n",
       "    </tr>\n",
       "  </thead>\n",
       "  <tbody>\n",
       "    <tr>\n",
       "      <th>0</th>\n",
       "      <td>2024-03-01 06:30:07</td>\n",
       "      <td>What are some fashion choices men have given y...</td>\n",
       "      <td>I'm looking for some good asshole repellents. ...</td>\n",
       "      <td>TwoXChromosomes</td>\n",
       "    </tr>\n",
       "    <tr>\n",
       "      <th>1</th>\n",
       "      <td>2024-03-01 06:30:07</td>\n",
       "      <td>I feel insane - IUD stories?</td>\n",
       "      <td>Hi all, I have had my IUD for approx 18 months...</td>\n",
       "      <td>TwoXChromosomes</td>\n",
       "    </tr>\n",
       "    <tr>\n",
       "      <th>2</th>\n",
       "      <td>2024-03-01 06:30:07</td>\n",
       "      <td>questions for anyone with the birth control ar...</td>\n",
       "      <td>hi! I've been thinking about getting the impla...</td>\n",
       "      <td>TwoXChromosomes</td>\n",
       "    </tr>\n",
       "    <tr>\n",
       "      <th>3</th>\n",
       "      <td>2024-03-01 06:30:07</td>\n",
       "      <td>Running Through Fear: Kosovar Women Jog In Gro...</td>\n",
       "      <td></td>\n",
       "      <td>TwoXChromosomes</td>\n",
       "    </tr>\n",
       "    <tr>\n",
       "      <th>4</th>\n",
       "      <td>2024-03-01 06:30:07</td>\n",
       "      <td>I’m so sick of the low effort men put into the...</td>\n",
       "      <td>You look like you’ve never seen a teaspoon of ...</td>\n",
       "      <td>TwoXChromosomes</td>\n",
       "    </tr>\n",
       "  </tbody>\n",
       "</table>\n",
       "</div>"
      ],
      "text/plain": [
       "          created_utc                                              title  \\\n",
       "0 2024-03-01 06:30:07  What are some fashion choices men have given y...   \n",
       "1 2024-03-01 06:30:07                      I feel insane - IUD stories?    \n",
       "2 2024-03-01 06:30:07  questions for anyone with the birth control ar...   \n",
       "3 2024-03-01 06:30:07  Running Through Fear: Kosovar Women Jog In Gro...   \n",
       "4 2024-03-01 06:30:07  I’m so sick of the low effort men put into the...   \n",
       "\n",
       "                                           self_text        subreddit  \n",
       "0  I'm looking for some good asshole repellents. ...  TwoXChromosomes  \n",
       "1  Hi all, I have had my IUD for approx 18 months...  TwoXChromosomes  \n",
       "2  hi! I've been thinking about getting the impla...  TwoXChromosomes  \n",
       "3                                                     TwoXChromosomes  \n",
       "4  You look like you’ve never seen a teaspoon of ...  TwoXChromosomes  "
      ]
     },
     "execution_count": 127,
     "metadata": {},
     "output_type": "execute_result"
    }
   ],
   "source": [
    "twox.head()"
   ]
  },
  {
   "cell_type": "code",
   "execution_count": null,
   "id": "3af57dcb-7009-4347-8497-09273adebb0f",
   "metadata": {},
   "outputs": [],
   "source": [
    "# ROWAN what other kinds of EDA make sense - check on titanic lab"
   ]
  },
  {
   "cell_type": "code",
   "execution_count": 119,
   "id": "1907f181-0dbc-4d62-b5fc-87ce81294ef2",
   "metadata": {},
   "outputs": [],
   "source": [
    "# TODO drop rows where post has been removed"
   ]
  },
  {
   "cell_type": "code",
   "execution_count": null,
   "id": "10776cad-4237-4c5f-9187-c5964c18abf9",
   "metadata": {},
   "outputs": [],
   "source": [
    "# Repeat cleaning for MRM\n",
    "# then export cleaned csvs"
   ]
  },
  {
   "cell_type": "code",
   "execution_count": null,
   "id": "0e0860ae-43e6-4e6f-b7e5-015e5ea6faed",
   "metadata": {},
   "outputs": [],
   "source": [
    "# Confirm no nulls at the end before writing to csv"
   ]
  }
 ],
 "metadata": {
  "kernelspec": {
   "display_name": "Python 3 (ipykernel)",
   "language": "python",
   "name": "python3"
  },
  "language_info": {
   "codemirror_mode": {
    "name": "ipython",
    "version": 3
   },
   "file_extension": ".py",
   "mimetype": "text/x-python",
   "name": "python",
   "nbconvert_exporter": "python",
   "pygments_lexer": "ipython3",
   "version": "3.11.5"
  }
 },
 "nbformat": 4,
 "nbformat_minor": 5
}
