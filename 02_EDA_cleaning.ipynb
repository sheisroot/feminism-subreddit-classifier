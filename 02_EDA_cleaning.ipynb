{
 "cells": [
  {
   "cell_type": "markdown",
   "id": "57a1ec1d-87dc-4ff2-b283-46283b5f13e6",
   "metadata": {},
   "source": [
    "# 02 - EDA and cleaning"
   ]
  },
  {
   "cell_type": "code",
   "execution_count": 3,
   "id": "11ed0650-26c9-45ee-a15b-d5ffb8edac1e",
   "metadata": {},
   "outputs": [],
   "source": [
    "import numpy as np\n",
    "import pandas as pd\n",
    "import matplotlib.pyplot as plt\n",
    "\n"
   ]
  },
  {
   "cell_type": "code",
   "execution_count": 18,
   "id": "09db4b92-40b5-44bc-b7fe-201f57a39028",
   "metadata": {},
   "outputs": [],
   "source": [
    "# Merge dataframes\n",
    "df_twox = pd.read_csv('./data/two_x.csv')\n",
    "df_mrm = pd.read_csv('./data/mrm.csv')\n",
    "\n",
    "posts = pd.concat([df_twox, df_mrm], ignore_index=True)"
   ]
  },
  {
   "cell_type": "code",
   "execution_count": 20,
   "id": "b1e0826d-b0df-44f1-953e-55454e065238",
   "metadata": {},
   "outputs": [
    {
     "data": {
      "text/html": [
       "<div>\n",
       "<style scoped>\n",
       "    .dataframe tbody tr th:only-of-type {\n",
       "        vertical-align: middle;\n",
       "    }\n",
       "\n",
       "    .dataframe tbody tr th {\n",
       "        vertical-align: top;\n",
       "    }\n",
       "\n",
       "    .dataframe thead th {\n",
       "        text-align: right;\n",
       "    }\n",
       "</style>\n",
       "<table border=\"1\" class=\"dataframe\">\n",
       "  <thead>\n",
       "    <tr style=\"text-align: right;\">\n",
       "      <th></th>\n",
       "      <th>created_utc</th>\n",
       "      <th>title</th>\n",
       "      <th>self_text</th>\n",
       "      <th>subreddit</th>\n",
       "    </tr>\n",
       "  </thead>\n",
       "  <tbody>\n",
       "    <tr>\n",
       "      <th>5878</th>\n",
       "      <td>1.355743e+09</td>\n",
       "      <td>The Physical and Psychological Differences Bet...</td>\n",
       "      <td>NaN</td>\n",
       "      <td>MensRights</td>\n",
       "    </tr>\n",
       "    <tr>\n",
       "      <th>5879</th>\n",
       "      <td>1.354796e+09</td>\n",
       "      <td>FB yielded a good example of the double standa...</td>\n",
       "      <td>NaN</td>\n",
       "      <td>MensRights</td>\n",
       "    </tr>\n",
       "    <tr>\n",
       "      <th>5880</th>\n",
       "      <td>1.352004e+09</td>\n",
       "      <td>Incident at work today (not a discrimination i...</td>\n",
       "      <td>So I work as a car salesman and today a well e...</td>\n",
       "      <td>MensRights</td>\n",
       "    </tr>\n",
       "    <tr>\n",
       "      <th>5881</th>\n",
       "      <td>1.556482e+09</td>\n",
       "      <td>As a woman,</td>\n",
       "      <td>I really want to support your movement, and i ...</td>\n",
       "      <td>MensRights</td>\n",
       "    </tr>\n",
       "    <tr>\n",
       "      <th>5882</th>\n",
       "      <td>1.684334e+09</td>\n",
       "      <td>\"Dead-Beat Dads\" is a myth....</td>\n",
       "      <td>A long time ago, I copied something I found o...</td>\n",
       "      <td>MensRights</td>\n",
       "    </tr>\n",
       "  </tbody>\n",
       "</table>\n",
       "</div>"
      ],
      "text/plain": [
       "       created_utc                                              title  \\\n",
       "5878  1.355743e+09  The Physical and Psychological Differences Bet...   \n",
       "5879  1.354796e+09  FB yielded a good example of the double standa...   \n",
       "5880  1.352004e+09  Incident at work today (not a discrimination i...   \n",
       "5881  1.556482e+09                                        As a woman,   \n",
       "5882  1.684334e+09                     \"Dead-Beat Dads\" is a myth....   \n",
       "\n",
       "                                              self_text   subreddit  \n",
       "5878                                                NaN  MensRights  \n",
       "5879                                                NaN  MensRights  \n",
       "5880  So I work as a car salesman and today a well e...  MensRights  \n",
       "5881  I really want to support your movement, and i ...  MensRights  \n",
       "5882   A long time ago, I copied something I found o...  MensRights  "
      ]
     },
     "execution_count": 20,
     "metadata": {},
     "output_type": "execute_result"
    }
   ],
   "source": [
    "posts.tail()"
   ]
  },
  {
   "cell_type": "code",
   "execution_count": null,
   "id": "b4f91789-e13f-4909-b052-838667e2917a",
   "metadata": {},
   "outputs": [],
   "source": []
  }
 ],
 "metadata": {
  "kernelspec": {
   "display_name": "Python 3 (ipykernel)",
   "language": "python",
   "name": "python3"
  },
  "language_info": {
   "codemirror_mode": {
    "name": "ipython",
    "version": 3
   },
   "file_extension": ".py",
   "mimetype": "text/x-python",
   "name": "python",
   "nbconvert_exporter": "python",
   "pygments_lexer": "ipython3",
   "version": "3.11.5"
  }
 },
 "nbformat": 4,
 "nbformat_minor": 5
}
