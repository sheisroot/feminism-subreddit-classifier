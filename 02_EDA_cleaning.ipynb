{
 "cells": [
  {
   "cell_type": "markdown",
   "id": "57a1ec1d-87dc-4ff2-b283-46283b5f13e6",
   "metadata": {},
   "source": [
    "# 02 - EDA and cleaning"
   ]
  },
  {
   "cell_type": "code",
   "execution_count": 87,
   "id": "11ed0650-26c9-45ee-a15b-d5ffb8edac1e",
   "metadata": {},
   "outputs": [],
   "source": [
    "import numpy as np\n",
    "import pandas as pd\n",
    "import matplotlib.pyplot as plt\n",
    "\n"
   ]
  },
  {
   "cell_type": "code",
   "execution_count": 88,
   "id": "09db4b92-40b5-44bc-b7fe-201f57a39028",
   "metadata": {},
   "outputs": [],
   "source": [
    "# Merge dataframes\n",
    "twox = pd.read_csv('./data/two_x.csv')\n",
    "mrm = pd.read_csv('./data/mrm.csv')\n",
    "\n",
    "posts = pd.concat([twox, mrm], ignore_index=True)"
   ]
  },
  {
   "cell_type": "code",
   "execution_count": 89,
   "id": "b1e0826d-b0df-44f1-953e-55454e065238",
   "metadata": {},
   "outputs": [
    {
     "data": {
      "text/html": [
       "<div>\n",
       "<style scoped>\n",
       "    .dataframe tbody tr th:only-of-type {\n",
       "        vertical-align: middle;\n",
       "    }\n",
       "\n",
       "    .dataframe tbody tr th {\n",
       "        vertical-align: top;\n",
       "    }\n",
       "\n",
       "    .dataframe thead th {\n",
       "        text-align: right;\n",
       "    }\n",
       "</style>\n",
       "<table border=\"1\" class=\"dataframe\">\n",
       "  <thead>\n",
       "    <tr style=\"text-align: right;\">\n",
       "      <th></th>\n",
       "      <th>created_utc</th>\n",
       "      <th>title</th>\n",
       "      <th>self_text</th>\n",
       "      <th>subreddit</th>\n",
       "    </tr>\n",
       "  </thead>\n",
       "  <tbody>\n",
       "    <tr>\n",
       "      <th>0</th>\n",
       "      <td>1.709282e+09</td>\n",
       "      <td>What are some fashion choices men have given y...</td>\n",
       "      <td>I'm looking for some good asshole repellents. ...</td>\n",
       "      <td>TwoXChromosomes</td>\n",
       "    </tr>\n",
       "    <tr>\n",
       "      <th>1</th>\n",
       "      <td>1.709280e+09</td>\n",
       "      <td>I feel insane - IUD stories?</td>\n",
       "      <td>Hi all, I have had my IUD for approx 18 months...</td>\n",
       "      <td>TwoXChromosomes</td>\n",
       "    </tr>\n",
       "    <tr>\n",
       "      <th>2</th>\n",
       "      <td>1.709275e+09</td>\n",
       "      <td>questions for anyone with the birth control ar...</td>\n",
       "      <td>hi! I've been thinking about getting the impla...</td>\n",
       "      <td>TwoXChromosomes</td>\n",
       "    </tr>\n",
       "    <tr>\n",
       "      <th>3</th>\n",
       "      <td>1.709275e+09</td>\n",
       "      <td>Running Through Fear: Kosovar Women Jog In Gro...</td>\n",
       "      <td>NaN</td>\n",
       "      <td>TwoXChromosomes</td>\n",
       "    </tr>\n",
       "    <tr>\n",
       "      <th>4</th>\n",
       "      <td>1.709274e+09</td>\n",
       "      <td>I’m so sick of the low effort men put into the...</td>\n",
       "      <td>You look like you’ve never seen a teaspoon of ...</td>\n",
       "      <td>TwoXChromosomes</td>\n",
       "    </tr>\n",
       "  </tbody>\n",
       "</table>\n",
       "</div>"
      ],
      "text/plain": [
       "    created_utc                                              title  \\\n",
       "0  1.709282e+09  What are some fashion choices men have given y...   \n",
       "1  1.709280e+09                      I feel insane - IUD stories?    \n",
       "2  1.709275e+09  questions for anyone with the birth control ar...   \n",
       "3  1.709275e+09  Running Through Fear: Kosovar Women Jog In Gro...   \n",
       "4  1.709274e+09  I’m so sick of the low effort men put into the...   \n",
       "\n",
       "                                           self_text        subreddit  \n",
       "0  I'm looking for some good asshole repellents. ...  TwoXChromosomes  \n",
       "1  Hi all, I have had my IUD for approx 18 months...  TwoXChromosomes  \n",
       "2  hi! I've been thinking about getting the impla...  TwoXChromosomes  \n",
       "3                                                NaN  TwoXChromosomes  \n",
       "4  You look like you’ve never seen a teaspoon of ...  TwoXChromosomes  "
      ]
     },
     "execution_count": 89,
     "metadata": {},
     "output_type": "execute_result"
    }
   ],
   "source": [
    "posts.head()"
   ]
  },
  {
   "cell_type": "code",
   "execution_count": 90,
   "id": "9508017a-7d60-4df4-8b0b-bbbc6ef4067e",
   "metadata": {},
   "outputs": [],
   "source": [
    "# Clean up the NaN values\n",
    "# in this case, valuable info is in the title\n",
    "# sometimes self text is brief and the key info is in the self_text\n",
    "# TODO: so we should include titles in the analysis\n",
    "twox['self_text'] = twox['self_text'].fillna('')"
   ]
  },
  {
   "cell_type": "code",
   "execution_count": 91,
   "id": "b4f91789-e13f-4909-b052-838667e2917a",
   "metadata": {},
   "outputs": [],
   "source": [
    "full_text = '\\n\\n'.join(twox['self_text'])"
   ]
  },
  {
   "cell_type": "code",
   "execution_count": 92,
   "id": "e2b70cbf-01eb-4e3f-a90e-319e91311ab8",
   "metadata": {},
   "outputs": [
    {
     "data": {
      "text/plain": [
       "I       21838\n",
       "to      17872\n",
       "and     16959\n",
       "the     15138\n",
       "a       12687\n",
       "        ...  \n",
       "It        807\n",
       "But       801\n",
       "much      795\n",
       "very      786\n",
       "any       784\n",
       "Name: count, Length: 100, dtype: int64"
      ]
     },
     "execution_count": 92,
     "metadata": {},
     "output_type": "execute_result"
    }
   ],
   "source": [
    "# Count the most frequent words\n",
    "# adapted from https://stackoverflow.com/questions/29903025/count-most-frequent-100-words-from-sentences-in-dataframe-pandas\n",
    "pd.Series(full_text.split()).value_counts()[:100]"
   ]
  },
  {
   "cell_type": "code",
   "execution_count": 93,
   "id": "ae1d70a0-5f15-4c1f-9e29-c68f1256baed",
   "metadata": {},
   "outputs": [
    {
     "data": {
      "text/plain": [
       "0"
      ]
     },
     "execution_count": 93,
     "metadata": {},
     "output_type": "execute_result"
    }
   ],
   "source": [
    "twox['title'].isna().sum() # titles are always required, no nulls\n",
    "\n",
    "#= twox['self_text'].fillna('')"
   ]
  },
  {
   "cell_type": "code",
   "execution_count": 95,
   "id": "523de583-4452-42d9-acb9-af6ec42f5a69",
   "metadata": {},
   "outputs": [
    {
     "data": {
      "text/plain": [
       "4"
      ]
     },
     "execution_count": 95,
     "metadata": {},
     "output_type": "execute_result"
    }
   ],
   "source": [
    "twox.duplicated(['title']).sum() # somehow there are some duplicates"
   ]
  },
  {
   "cell_type": "code",
   "execution_count": 103,
   "id": "33625d83-2f12-45f5-b8f9-04e0726bbbf3",
   "metadata": {},
   "outputs": [
    {
     "data": {
      "text/html": [
       "<div>\n",
       "<style scoped>\n",
       "    .dataframe tbody tr th:only-of-type {\n",
       "        vertical-align: middle;\n",
       "    }\n",
       "\n",
       "    .dataframe tbody tr th {\n",
       "        vertical-align: top;\n",
       "    }\n",
       "\n",
       "    .dataframe thead th {\n",
       "        text-align: right;\n",
       "    }\n",
       "</style>\n",
       "<table border=\"1\" class=\"dataframe\">\n",
       "  <thead>\n",
       "    <tr style=\"text-align: right;\">\n",
       "      <th></th>\n",
       "      <th>created_utc</th>\n",
       "      <th>title</th>\n",
       "      <th>self_text</th>\n",
       "      <th>subreddit</th>\n",
       "    </tr>\n",
       "  </thead>\n",
       "  <tbody>\n",
       "    <tr>\n",
       "      <th>1009</th>\n",
       "      <td>1.636689e+09</td>\n",
       "      <td>In 2009, Colorado began offering teens free IU...</td>\n",
       "      <td></td>\n",
       "      <td>TwoXChromosomes</td>\n",
       "    </tr>\n",
       "    <tr>\n",
       "      <th>1190</th>\n",
       "      <td>1.489410e+09</td>\n",
       "      <td>Female politician proposes law to fine men $10...</td>\n",
       "      <td></td>\n",
       "      <td>TwoXChromosomes</td>\n",
       "    </tr>\n",
       "    <tr>\n",
       "      <th>2025</th>\n",
       "      <td>1.702692e+09</td>\n",
       "      <td>[ Removed by Reddit ]</td>\n",
       "      <td>[ Removed by Reddit on account of violating th...</td>\n",
       "      <td>TwoXChromosomes</td>\n",
       "    </tr>\n",
       "    <tr>\n",
       "      <th>2837</th>\n",
       "      <td>1.401500e+09</td>\n",
       "      <td>An open letter to privileged people who play d...</td>\n",
       "      <td></td>\n",
       "      <td>TwoXChromosomes</td>\n",
       "    </tr>\n",
       "  </tbody>\n",
       "</table>\n",
       "</div>"
      ],
      "text/plain": [
       "       created_utc                                              title  \\\n",
       "1009  1.636689e+09  In 2009, Colorado began offering teens free IU...   \n",
       "1190  1.489410e+09  Female politician proposes law to fine men $10...   \n",
       "2025  1.702692e+09                              [ Removed by Reddit ]   \n",
       "2837  1.401500e+09  An open letter to privileged people who play d...   \n",
       "\n",
       "                                              self_text        subreddit  \n",
       "1009                                                     TwoXChromosomes  \n",
       "1190                                                     TwoXChromosomes  \n",
       "2025  [ Removed by Reddit on account of violating th...  TwoXChromosomes  \n",
       "2837                                                     TwoXChromosomes  "
      ]
     },
     "execution_count": 103,
     "metadata": {},
     "output_type": "execute_result"
    }
   ],
   "source": [
    "dup_mask = twox.duplicated(subset=['title'])\n",
    "twox[dup_mask]"
   ]
  },
  {
   "cell_type": "code",
   "execution_count": 107,
   "id": "12f7e32e-d88f-4181-88ca-7c619d5492c8",
   "metadata": {},
   "outputs": [
    {
     "data": {
      "text/plain": [
       "False"
      ]
     },
     "execution_count": 107,
     "metadata": {},
     "output_type": "execute_result"
    }
   ],
   "source": [
    "# why are these rows coming up as duplicates? maybe a string value comparison?\n",
    "\n",
    "twox.iloc[1009]['title'] == twox.iloc[1190]['title']"
   ]
  },
  {
   "cell_type": "code",
   "execution_count": 113,
   "id": "b3da2671-67a6-44c3-afa7-223b2a884ab6",
   "metadata": {},
   "outputs": [],
   "source": [
    "unique_twox = twox.drop_duplicates()"
   ]
  },
  {
   "cell_type": "code",
   "execution_count": 114,
   "id": "9e880bf4-1e72-4c8d-bd23-2e98270bdd2d",
   "metadata": {},
   "outputs": [
    {
     "data": {
      "text/plain": [
       "4"
      ]
     },
     "execution_count": 114,
     "metadata": {},
     "output_type": "execute_result"
    }
   ],
   "source": [
    "unique_twox.duplicated(['title']).sum()"
   ]
  },
  {
   "cell_type": "code",
   "execution_count": 115,
   "id": "25c71977-347e-4f9a-a649-4458a6aea128",
   "metadata": {},
   "outputs": [
    {
     "data": {
      "text/plain": [
       "array(['What are some fashion choices men have given you unsolicited opinions about?',\n",
       "       'I feel insane - IUD stories? ',\n",
       "       'questions for anyone with the birth control arm implant', ...,\n",
       "       'The ‘Karen’ thing',\n",
       "       \"I'm so profoundly tired of transphobes pretending to care about women, girls, women's issues, women's sports. They don't.\",\n",
       "       \"Calling Pro-Porn Women Pick-Me's is Sexism\"], dtype=object)"
      ]
     },
     "execution_count": 115,
     "metadata": {},
     "output_type": "execute_result"
    }
   ],
   "source": [
    "twox['title'].values"
   ]
  },
  {
   "cell_type": "code",
   "execution_count": null,
   "id": "b46c3241-f531-4c56-9f22-28e432b618b4",
   "metadata": {},
   "outputs": [],
   "source": []
  }
 ],
 "metadata": {
  "kernelspec": {
   "display_name": "Python 3 (ipykernel)",
   "language": "python",
   "name": "python3"
  },
  "language_info": {
   "codemirror_mode": {
    "name": "ipython",
    "version": 3
   },
   "file_extension": ".py",
   "mimetype": "text/x-python",
   "name": "python",
   "nbconvert_exporter": "python",
   "pygments_lexer": "ipython3",
   "version": "3.11.5"
  }
 },
 "nbformat": 4,
 "nbformat_minor": 5
}
