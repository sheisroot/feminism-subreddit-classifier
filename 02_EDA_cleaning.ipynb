{
 "cells": [
  {
   "cell_type": "markdown",
   "id": "57a1ec1d-87dc-4ff2-b283-46283b5f13e6",
   "metadata": {},
   "source": [
    "# 02 - EDA and cleaning"
   ]
  },
  {
   "cell_type": "code",
   "execution_count": 1,
   "id": "11ed0650-26c9-45ee-a15b-d5ffb8edac1e",
   "metadata": {},
   "outputs": [],
   "source": [
    "import numpy as np\n",
    "import pandas as pd"
   ]
  },
  {
   "cell_type": "code",
   "execution_count": 2,
   "id": "09db4b92-40b5-44bc-b7fe-201f57a39028",
   "metadata": {},
   "outputs": [],
   "source": [
    "# Merge dataframes\n",
    "twox = pd.read_csv('./data/two_x.csv')\n",
    "mrm = pd.read_csv('./data/mrm.csv')\n",
    "\n",
    "posts = pd.concat([twox, mrm], ignore_index=True)"
   ]
  },
  {
   "cell_type": "code",
   "execution_count": 3,
   "id": "e4af88b2-4102-4e45-abfd-3e2cc598dc96",
   "metadata": {},
   "outputs": [
    {
     "data": {
      "text/html": [
       "<div>\n",
       "<style scoped>\n",
       "    .dataframe tbody tr th:only-of-type {\n",
       "        vertical-align: middle;\n",
       "    }\n",
       "\n",
       "    .dataframe tbody tr th {\n",
       "        vertical-align: top;\n",
       "    }\n",
       "\n",
       "    .dataframe thead th {\n",
       "        text-align: right;\n",
       "    }\n",
       "</style>\n",
       "<table border=\"1\" class=\"dataframe\">\n",
       "  <thead>\n",
       "    <tr style=\"text-align: right;\">\n",
       "      <th></th>\n",
       "      <th>created_utc</th>\n",
       "      <th>title</th>\n",
       "      <th>self_text</th>\n",
       "      <th>subreddit</th>\n",
       "    </tr>\n",
       "  </thead>\n",
       "  <tbody>\n",
       "    <tr>\n",
       "      <th>5878</th>\n",
       "      <td>1.355743e+09</td>\n",
       "      <td>The Physical and Psychological Differences Bet...</td>\n",
       "      <td>NaN</td>\n",
       "      <td>MensRights</td>\n",
       "    </tr>\n",
       "    <tr>\n",
       "      <th>5879</th>\n",
       "      <td>1.354796e+09</td>\n",
       "      <td>FB yielded a good example of the double standa...</td>\n",
       "      <td>NaN</td>\n",
       "      <td>MensRights</td>\n",
       "    </tr>\n",
       "    <tr>\n",
       "      <th>5880</th>\n",
       "      <td>1.352004e+09</td>\n",
       "      <td>Incident at work today (not a discrimination i...</td>\n",
       "      <td>So I work as a car salesman and today a well e...</td>\n",
       "      <td>MensRights</td>\n",
       "    </tr>\n",
       "    <tr>\n",
       "      <th>5881</th>\n",
       "      <td>1.556482e+09</td>\n",
       "      <td>As a woman,</td>\n",
       "      <td>I really want to support your movement, and i ...</td>\n",
       "      <td>MensRights</td>\n",
       "    </tr>\n",
       "    <tr>\n",
       "      <th>5882</th>\n",
       "      <td>1.684334e+09</td>\n",
       "      <td>\"Dead-Beat Dads\" is a myth....</td>\n",
       "      <td>A long time ago, I copied something I found o...</td>\n",
       "      <td>MensRights</td>\n",
       "    </tr>\n",
       "  </tbody>\n",
       "</table>\n",
       "</div>"
      ],
      "text/plain": [
       "       created_utc                                              title  \\\n",
       "5878  1.355743e+09  The Physical and Psychological Differences Bet...   \n",
       "5879  1.354796e+09  FB yielded a good example of the double standa...   \n",
       "5880  1.352004e+09  Incident at work today (not a discrimination i...   \n",
       "5881  1.556482e+09                                        As a woman,   \n",
       "5882  1.684334e+09                     \"Dead-Beat Dads\" is a myth....   \n",
       "\n",
       "                                              self_text   subreddit  \n",
       "5878                                                NaN  MensRights  \n",
       "5879                                                NaN  MensRights  \n",
       "5880  So I work as a car salesman and today a well e...  MensRights  \n",
       "5881  I really want to support your movement, and i ...  MensRights  \n",
       "5882   A long time ago, I copied something I found o...  MensRights  "
      ]
     },
     "execution_count": 3,
     "metadata": {},
     "output_type": "execute_result"
    }
   ],
   "source": [
    "posts.tail()"
   ]
  },
  {
   "cell_type": "code",
   "execution_count": 4,
   "id": "b1e0826d-b0df-44f1-953e-55454e065238",
   "metadata": {},
   "outputs": [
    {
     "name": "stdout",
     "output_type": "stream",
     "text": [
      "created_utc    float64\n",
      "title           object\n",
      "self_text       object\n",
      "subreddit       object\n",
      "dtype: object\n"
     ]
    }
   ],
   "source": [
    "print(posts.dtypes)"
   ]
  },
  {
   "cell_type": "code",
   "execution_count": 5,
   "id": "9508017a-7d60-4df4-8b0b-bbbc6ef4067e",
   "metadata": {},
   "outputs": [],
   "source": [
    "# Clean up the NaN values\n",
    "# in this case, valuable info is in the title\n",
    "# sometimes self text is brief and the key info is in the self_text\n",
    "# TODO: so we should include titles in the analysis\n",
    "# twox['self_text'] = twox['self_text'].fillna('')"
   ]
  },
  {
   "cell_type": "code",
   "execution_count": 6,
   "id": "c8f8f73b-46b6-46a0-b563-68dac7495871",
   "metadata": {},
   "outputs": [
    {
     "data": {
      "text/plain": [
       "2717"
      ]
     },
     "execution_count": 6,
     "metadata": {},
     "output_type": "execute_result"
    }
   ],
   "source": [
    "posts['self_text'].isna().sum()"
   ]
  },
  {
   "cell_type": "code",
   "execution_count": 7,
   "id": "40ff2180-de9b-4cbf-8416-4de9b499c011",
   "metadata": {
    "scrolled": true
   },
   "outputs": [],
   "source": [
    "posts['self_text'] = posts['self_text'].fillna('')"
   ]
  },
  {
   "cell_type": "code",
   "execution_count": 8,
   "id": "b9f41a6e-6d40-48e5-be67-5b22d35556d1",
   "metadata": {},
   "outputs": [
    {
     "data": {
      "text/plain": [
       "created_utc    datetime64[ns]\n",
       "title                  object\n",
       "self_text              object\n",
       "subreddit              object\n",
       "dtype: object"
      ]
     },
     "execution_count": 8,
     "metadata": {},
     "output_type": "execute_result"
    }
   ],
   "source": [
    "# convert utc to datetime\n",
    "\n",
    "posts['created_utc'] = pd.to_datetime(posts['created_utc'], unit='s')\n",
    "posts.dtypes"
   ]
  },
  {
   "cell_type": "code",
   "execution_count": 9,
   "id": "da71067c-6b8f-4f61-9d4b-72c9837081ce",
   "metadata": {},
   "outputs": [
    {
     "data": {
      "text/plain": [
       "created_utc    0\n",
       "title          0\n",
       "self_text      0\n",
       "subreddit      0\n",
       "dtype: int64"
      ]
     },
     "execution_count": 9,
     "metadata": {},
     "output_type": "execute_result"
    }
   ],
   "source": [
    "posts.isna().sum()"
   ]
  },
  {
   "cell_type": "code",
   "execution_count": 10,
   "id": "10776cad-4237-4c5f-9187-c5964c18abf9",
   "metadata": {},
   "outputs": [],
   "source": [
    "posts.to_csv('./data/posts.csv', index=False)"
   ]
  },
  {
   "cell_type": "code",
   "execution_count": 11,
   "id": "0e0860ae-43e6-4e6f-b7e5-015e5ea6faed",
   "metadata": {},
   "outputs": [],
   "source": [
    "# ROWAN what other kinds of EDA make sense - check on titanic lab\n",
    "# TODO drop rows where post has been removed\n",
    "# Repeat cleaning for MRM\n",
    "# then export cleaned csvs"
   ]
  }
 ],
 "metadata": {
  "kernelspec": {
   "display_name": "Python 3 (ipykernel)",
   "language": "python",
   "name": "python3"
  },
  "language_info": {
   "codemirror_mode": {
    "name": "ipython",
    "version": 3
   },
   "file_extension": ".py",
   "mimetype": "text/x-python",
   "name": "python",
   "nbconvert_exporter": "python",
   "pygments_lexer": "ipython3",
   "version": "3.11.5"
  }
 },
 "nbformat": 4,
 "nbformat_minor": 5
}
