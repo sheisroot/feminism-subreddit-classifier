{
 "cells": [
  {
   "cell_type": "markdown",
   "id": "056ba08b-c5eb-4a5a-acc9-6e768d00eb25",
   "metadata": {},
   "source": [
    "# 03 - Use a gridsearch to optimize hyperparameters for Vectorizing and modeling"
   ]
  },
  {
   "cell_type": "code",
   "execution_count": 1,
   "id": "274e2844-d778-4392-835d-e46671359872",
   "metadata": {},
   "outputs": [],
   "source": [
    "import numpy as np\n",
    "import pandas as pd\n",
    "import matplotlib.pyplot as plt\n",
    "\n",
    "from sklearn.model_selection import train_test_split, GridSearchCV\n",
    "from sklearn.pipeline import Pipeline\n",
    "\n",
    "from sklearn.naive_bayes import MultinomialNB\n",
    "\n",
    "from sklearn.metrics import confusion_matrix, ConfusionMatrixDisplay\n",
    "\n",
    "from sklearn.feature_extraction.text import CountVectorizer, TfidfVectorizer\n",
    "# we may choose to only optimize for Tfidf bc this structures the data with more information \n",
    "from nltk.corpus import stopwords"
   ]
  },
  {
   "cell_type": "markdown",
   "id": "0d738c06-ba24-4aed-9566-04fd5f98d59c",
   "metadata": {},
   "source": [
    "### Preprocessing the text data"
   ]
  },
  {
   "cell_type": "code",
   "execution_count": 3,
   "id": "39854347-8d83-40bc-865d-84e654a1c777",
   "metadata": {},
   "outputs": [
    {
     "data": {
      "text/html": [
       "<div>\n",
       "<style scoped>\n",
       "    .dataframe tbody tr th:only-of-type {\n",
       "        vertical-align: middle;\n",
       "    }\n",
       "\n",
       "    .dataframe tbody tr th {\n",
       "        vertical-align: top;\n",
       "    }\n",
       "\n",
       "    .dataframe thead th {\n",
       "        text-align: right;\n",
       "    }\n",
       "</style>\n",
       "<table border=\"1\" class=\"dataframe\">\n",
       "  <thead>\n",
       "    <tr style=\"text-align: right;\">\n",
       "      <th></th>\n",
       "      <th>created_utc</th>\n",
       "      <th>title</th>\n",
       "      <th>self_text</th>\n",
       "      <th>subreddit</th>\n",
       "    </tr>\n",
       "  </thead>\n",
       "  <tbody>\n",
       "    <tr>\n",
       "      <th>5878</th>\n",
       "      <td>2012-12-17 11:09:52</td>\n",
       "      <td>The Physical and Psychological Differences Bet...</td>\n",
       "      <td></td>\n",
       "      <td>0</td>\n",
       "    </tr>\n",
       "    <tr>\n",
       "      <th>5879</th>\n",
       "      <td>2012-12-06 12:14:14</td>\n",
       "      <td>FB yielded a good example of the double standa...</td>\n",
       "      <td></td>\n",
       "      <td>0</td>\n",
       "    </tr>\n",
       "    <tr>\n",
       "      <th>5880</th>\n",
       "      <td>2012-11-04 04:44:44</td>\n",
       "      <td>Incident at work today (not a discrimination i...</td>\n",
       "      <td>So I work as a car salesman and today a well e...</td>\n",
       "      <td>0</td>\n",
       "    </tr>\n",
       "    <tr>\n",
       "      <th>5881</th>\n",
       "      <td>2019-04-28 20:05:06</td>\n",
       "      <td>As a woman,</td>\n",
       "      <td>I really want to support your movement, and i ...</td>\n",
       "      <td>0</td>\n",
       "    </tr>\n",
       "    <tr>\n",
       "      <th>5882</th>\n",
       "      <td>2023-05-17 14:27:51</td>\n",
       "      <td>\"Dead-Beat Dads\" is a myth....</td>\n",
       "      <td>A long time ago, I copied something I found o...</td>\n",
       "      <td>0</td>\n",
       "    </tr>\n",
       "  </tbody>\n",
       "</table>\n",
       "</div>"
      ],
      "text/plain": [
       "              created_utc                                              title  \\\n",
       "5878  2012-12-17 11:09:52  The Physical and Psychological Differences Bet...   \n",
       "5879  2012-12-06 12:14:14  FB yielded a good example of the double standa...   \n",
       "5880  2012-11-04 04:44:44  Incident at work today (not a discrimination i...   \n",
       "5881  2019-04-28 20:05:06                                        As a woman,   \n",
       "5882  2023-05-17 14:27:51                     \"Dead-Beat Dads\" is a myth....   \n",
       "\n",
       "                                              self_text  subreddit  \n",
       "5878                                                             0  \n",
       "5879                                                             0  \n",
       "5880  So I work as a car salesman and today a well e...          0  \n",
       "5881  I really want to support your movement, and i ...          0  \n",
       "5882   A long time ago, I copied something I found o...          0  "
      ]
     },
     "execution_count": 3,
     "metadata": {},
     "output_type": "execute_result"
    }
   ],
   "source": [
    "posts = pd.read_csv('./data/posts.csv')\n",
    "posts = posts.fillna('')\n",
    "posts['subreddit'] = posts['subreddit'].map({'TwoXChromosomes': 1, 'MensRights': 0})\n",
    "posts.tail()"
   ]
  },
  {
   "cell_type": "code",
   "execution_count": 4,
   "id": "0d2a248c-6925-4547-9de7-4dd15a31eb52",
   "metadata": {},
   "outputs": [
    {
     "data": {
      "text/plain": [
       "created_utc    0\n",
       "title          0\n",
       "self_text      0\n",
       "subreddit      0\n",
       "dtype: int64"
      ]
     },
     "execution_count": 4,
     "metadata": {},
     "output_type": "execute_result"
    }
   ],
   "source": [
    "posts.isnull().sum() # confirm data contains no null values"
   ]
  },
  {
   "cell_type": "code",
   "execution_count": 5,
   "id": "3ddfe2ab-4bc7-45af-a0e9-a8567b894473",
   "metadata": {},
   "outputs": [
    {
     "data": {
      "text/plain": [
       "0       What are some fashion choices men have given y...\n",
       "1       I feel insane - IUD stories? \\n\\nHi all, I hav...\n",
       "2       questions for anyone with the birth control ar...\n",
       "3       Running Through Fear: Kosovar Women Jog In Gro...\n",
       "4       I’m so sick of the low effort men put into the...\n",
       "                              ...                        \n",
       "5878    The Physical and Psychological Differences Bet...\n",
       "5879    FB yielded a good example of the double standa...\n",
       "5880    Incident at work today (not a discrimination i...\n",
       "5881    As a woman,\\n\\nI really want to support your m...\n",
       "5882    \"Dead-Beat Dads\" is a myth....\\n\\n A long time...\n",
       "Name: all_text, Length: 5883, dtype: object"
      ]
     },
     "execution_count": 5,
     "metadata": {},
     "output_type": "execute_result"
    }
   ],
   "source": [
    "# engineer a new feature that combines title and self text 'all_text'\n",
    "# because oftentimes posts have no text body, and the title contains all the information\n",
    "posts['all_text'] = posts['title'] + '\\n\\n' + posts['self_text']\n",
    "posts['all_text']"
   ]
  },
  {
   "cell_type": "code",
   "execution_count": 6,
   "id": "dfc97e80-057a-4782-a21f-2508776c2a93",
   "metadata": {
    "scrolled": true
   },
   "outputs": [
    {
     "data": {
      "text/html": [
       "<div>\n",
       "<style scoped>\n",
       "    .dataframe tbody tr th:only-of-type {\n",
       "        vertical-align: middle;\n",
       "    }\n",
       "\n",
       "    .dataframe tbody tr th {\n",
       "        vertical-align: top;\n",
       "    }\n",
       "\n",
       "    .dataframe thead th {\n",
       "        text-align: right;\n",
       "    }\n",
       "</style>\n",
       "<table border=\"1\" class=\"dataframe\">\n",
       "  <thead>\n",
       "    <tr style=\"text-align: right;\">\n",
       "      <th></th>\n",
       "      <th>created_utc</th>\n",
       "      <th>all_text</th>\n",
       "      <th>subreddit</th>\n",
       "    </tr>\n",
       "  </thead>\n",
       "  <tbody>\n",
       "    <tr>\n",
       "      <th>0</th>\n",
       "      <td>2024-03-01 08:30:47</td>\n",
       "      <td>What are some fashion choices men have given y...</td>\n",
       "      <td>1</td>\n",
       "    </tr>\n",
       "    <tr>\n",
       "      <th>1</th>\n",
       "      <td>2024-03-01 07:56:51</td>\n",
       "      <td>I feel insane - IUD stories? \\n\\nHi all, I hav...</td>\n",
       "      <td>1</td>\n",
       "    </tr>\n",
       "    <tr>\n",
       "      <th>2</th>\n",
       "      <td>2024-03-01 06:30:16</td>\n",
       "      <td>questions for anyone with the birth control ar...</td>\n",
       "      <td>1</td>\n",
       "    </tr>\n",
       "    <tr>\n",
       "      <th>3</th>\n",
       "      <td>2024-03-01 06:30:07</td>\n",
       "      <td>Running Through Fear: Kosovar Women Jog In Gro...</td>\n",
       "      <td>1</td>\n",
       "    </tr>\n",
       "    <tr>\n",
       "      <th>4</th>\n",
       "      <td>2024-03-01 06:22:10</td>\n",
       "      <td>I’m so sick of the low effort men put into the...</td>\n",
       "      <td>1</td>\n",
       "    </tr>\n",
       "  </tbody>\n",
       "</table>\n",
       "</div>"
      ],
      "text/plain": [
       "           created_utc                                           all_text  \\\n",
       "0  2024-03-01 08:30:47  What are some fashion choices men have given y...   \n",
       "1  2024-03-01 07:56:51  I feel insane - IUD stories? \\n\\nHi all, I hav...   \n",
       "2  2024-03-01 06:30:16  questions for anyone with the birth control ar...   \n",
       "3  2024-03-01 06:30:07  Running Through Fear: Kosovar Women Jog In Gro...   \n",
       "4  2024-03-01 06:22:10  I’m so sick of the low effort men put into the...   \n",
       "\n",
       "   subreddit  \n",
       "0          1  \n",
       "1          1  \n",
       "2          1  \n",
       "3          1  \n",
       "4          1  "
      ]
     },
     "execution_count": 6,
     "metadata": {},
     "output_type": "execute_result"
    }
   ],
   "source": [
    "dropped = posts.drop(columns=['title', 'self_text'])\n",
    "dropped = dropped[['created_utc', 'all_text', 'subreddit']]\n",
    "dropped.head()"
   ]
  },
  {
   "cell_type": "code",
   "execution_count": 9,
   "id": "9181fd9e-0b40-488b-8e09-f61d7ba1267f",
   "metadata": {},
   "outputs": [
    {
     "data": {
      "text/html": [
       "<div>\n",
       "<style scoped>\n",
       "    .dataframe tbody tr th:only-of-type {\n",
       "        vertical-align: middle;\n",
       "    }\n",
       "\n",
       "    .dataframe tbody tr th {\n",
       "        vertical-align: top;\n",
       "    }\n",
       "\n",
       "    .dataframe thead th {\n",
       "        text-align: right;\n",
       "    }\n",
       "</style>\n",
       "<table border=\"1\" class=\"dataframe\">\n",
       "  <thead>\n",
       "    <tr style=\"text-align: right;\">\n",
       "      <th></th>\n",
       "      <th>created_utc</th>\n",
       "      <th>all_text</th>\n",
       "      <th>subreddit</th>\n",
       "    </tr>\n",
       "  </thead>\n",
       "  <tbody>\n",
       "    <tr>\n",
       "      <th>454</th>\n",
       "      <td>2024-02-23 23:53:04</td>\n",
       "      <td>People are sometimes MORE prejudiced towards n...</td>\n",
       "      <td>1</td>\n",
       "    </tr>\n",
       "    <tr>\n",
       "      <th>5579</th>\n",
       "      <td>2022-11-13 21:53:21</td>\n",
       "      <td>PART 2 - CONSCRIPTION FOR MASS GENOCIDE? THE T...</td>\n",
       "      <td>0</td>\n",
       "    </tr>\n",
       "    <tr>\n",
       "      <th>202</th>\n",
       "      <td>2024-02-27 15:17:39</td>\n",
       "      <td>Why are there so few tall women in MMA?\\n\\nAs ...</td>\n",
       "      <td>1</td>\n",
       "    </tr>\n",
       "    <tr>\n",
       "      <th>3424</th>\n",
       "      <td>2024-02-09 21:42:21</td>\n",
       "      <td>97% of Women Endorse Touching Unwilling Men Af...</td>\n",
       "      <td>0</td>\n",
       "    </tr>\n",
       "    <tr>\n",
       "      <th>375</th>\n",
       "      <td>2024-02-25 11:33:15</td>\n",
       "      <td>No one wants to date me cos i’m too childish\\n...</td>\n",
       "      <td>1</td>\n",
       "    </tr>\n",
       "  </tbody>\n",
       "</table>\n",
       "</div>"
      ],
      "text/plain": [
       "              created_utc                                           all_text  \\\n",
       "454   2024-02-23 23:53:04  People are sometimes MORE prejudiced towards n...   \n",
       "5579  2022-11-13 21:53:21  PART 2 - CONSCRIPTION FOR MASS GENOCIDE? THE T...   \n",
       "202   2024-02-27 15:17:39  Why are there so few tall women in MMA?\\n\\nAs ...   \n",
       "3424  2024-02-09 21:42:21  97% of Women Endorse Touching Unwilling Men Af...   \n",
       "375   2024-02-25 11:33:15  No one wants to date me cos i’m too childish\\n...   \n",
       "\n",
       "      subreddit  \n",
       "454           1  \n",
       "5579          0  \n",
       "202           1  \n",
       "3424          0  \n",
       "375           1  "
      ]
     },
     "execution_count": 9,
     "metadata": {},
     "output_type": "execute_result"
    }
   ],
   "source": [
    "dropped = dropped.sample(frac=1, random_state=2043) # shuffled the concatenated dfs\n",
    "dropped.to_csv('./data/posts_cleaned.csv', index=False)\n",
    "dropped.head()"
   ]
  },
  {
   "cell_type": "markdown",
   "id": "ac150dab-37f5-4d2f-aff7-20886de05d31",
   "metadata": {},
   "source": [
    "### Explore the cleaned data"
   ]
  },
  {
   "cell_type": "code",
   "execution_count": 10,
   "id": "8361bf37-12cf-4abf-a002-0592e1fc21aa",
   "metadata": {},
   "outputs": [
    {
     "data": {
      "text/html": [
       "<div>\n",
       "<style scoped>\n",
       "    .dataframe tbody tr th:only-of-type {\n",
       "        vertical-align: middle;\n",
       "    }\n",
       "\n",
       "    .dataframe tbody tr th {\n",
       "        vertical-align: top;\n",
       "    }\n",
       "\n",
       "    .dataframe thead th {\n",
       "        text-align: right;\n",
       "    }\n",
       "</style>\n",
       "<table border=\"1\" class=\"dataframe\">\n",
       "  <thead>\n",
       "    <tr style=\"text-align: right;\">\n",
       "      <th></th>\n",
       "      <th>created_utc</th>\n",
       "      <th>all_text</th>\n",
       "      <th>subreddit</th>\n",
       "    </tr>\n",
       "  </thead>\n",
       "  <tbody>\n",
       "    <tr>\n",
       "      <th>0</th>\n",
       "      <td>2024-02-23 23:53:04</td>\n",
       "      <td>People are sometimes MORE prejudiced towards n...</td>\n",
       "      <td>1</td>\n",
       "    </tr>\n",
       "    <tr>\n",
       "      <th>1</th>\n",
       "      <td>2022-11-13 21:53:21</td>\n",
       "      <td>PART 2 - CONSCRIPTION FOR MASS GENOCIDE? THE T...</td>\n",
       "      <td>0</td>\n",
       "    </tr>\n",
       "    <tr>\n",
       "      <th>2</th>\n",
       "      <td>2024-02-27 15:17:39</td>\n",
       "      <td>Why are there so few tall women in MMA?\\n\\nAs ...</td>\n",
       "      <td>1</td>\n",
       "    </tr>\n",
       "    <tr>\n",
       "      <th>3</th>\n",
       "      <td>2024-02-09 21:42:21</td>\n",
       "      <td>97% of Women Endorse Touching Unwilling Men Af...</td>\n",
       "      <td>0</td>\n",
       "    </tr>\n",
       "    <tr>\n",
       "      <th>4</th>\n",
       "      <td>2024-02-25 11:33:15</td>\n",
       "      <td>No one wants to date me cos i’m too childish\\n...</td>\n",
       "      <td>1</td>\n",
       "    </tr>\n",
       "  </tbody>\n",
       "</table>\n",
       "</div>"
      ],
      "text/plain": [
       "           created_utc                                           all_text  \\\n",
       "0  2024-02-23 23:53:04  People are sometimes MORE prejudiced towards n...   \n",
       "1  2022-11-13 21:53:21  PART 2 - CONSCRIPTION FOR MASS GENOCIDE? THE T...   \n",
       "2  2024-02-27 15:17:39  Why are there so few tall women in MMA?\\n\\nAs ...   \n",
       "3  2024-02-09 21:42:21  97% of Women Endorse Touching Unwilling Men Af...   \n",
       "4  2024-02-25 11:33:15  No one wants to date me cos i’m too childish\\n...   \n",
       "\n",
       "   subreddit  \n",
       "0          1  \n",
       "1          0  \n",
       "2          1  \n",
       "3          0  \n",
       "4          1  "
      ]
     },
     "execution_count": 10,
     "metadata": {},
     "output_type": "execute_result"
    }
   ],
   "source": [
    "# Start from here\n",
    "posts = pd.read_csv('./data/posts_cleaned.csv')\n",
    "posts.head()"
   ]
  },
  {
   "cell_type": "code",
   "execution_count": 11,
   "id": "297df8b5-bf33-4385-ae51-763e9117b92b",
   "metadata": {},
   "outputs": [
    {
     "data": {
      "text/plain": [
       "0.504164541900391"
      ]
     },
     "execution_count": 11,
     "metadata": {},
     "output_type": "execute_result"
    }
   ],
   "source": [
    "posts.subreddit.mean() # 0.50 means balanced classes which is good for binary classification"
   ]
  },
  {
   "cell_type": "markdown",
   "id": "a978f149-c06f-447a-9303-debf1b10db3f",
   "metadata": {},
   "source": [
    "We calculated the percentage of total posts which were from TwoXChromosomes to be about 50.4% which means that our classes are balanced in this dataset.  This percentage represents the baseline score. For example, if we had a completely untrained classification model, the best guess is simply the percentage occurrence of that class in the dataset.  We aim to produce a model which classifies a post more intelligently than guessing 50-50."
   ]
  },
  {
   "cell_type": "code",
   "execution_count": 12,
   "id": "a0b4aa11-bc09-4463-a4e9-f8d7952d97d2",
   "metadata": {},
   "outputs": [],
   "source": [
    "X = posts['all_text']\n",
    "y = posts['subreddit']\n",
    "X_train, X_test, y_train, y_test = train_test_split(X, y, random_state=42)"
   ]
  },
  {
   "cell_type": "code",
   "execution_count": 14,
   "id": "07d759a9-b16c-4518-8ad5-7a709f035e42",
   "metadata": {},
   "outputs": [],
   "source": [
    "# Set up a pipeline with two stages:\n",
    "# 1. CountVectorizer (transformer)\n",
    "# 2. Multinomial Naive Bayes (estimator)\n",
    "\n",
    "# Given the warning in CountVectorizer that their stop_words for 'english' are not great, we use the nltk library stop_words\n",
    "sw = stopwords.words('english')\n",
    "\n",
    "pipe = Pipeline([\n",
    "    ('cvec', CountVectorizer()),\n",
    "    ('nb', MultinomialNB())\n",
    "])\n",
    "\n",
    "params = {\n",
    "    'cvec__stop_words' :[None, sw],\n",
    "    # 'cvec__binary': [False, True],\n",
    "    'cvec__min_df': [1, 2],\n",
    "    # 'cvec__max_df: [0.98]\n",
    "    'cvec__ngram_range': [(1, 1), (1, 2), (2, 3)],\n",
    "    'cvec__max_features': [1000, 2000, 3000, None],\n",
    "}\n",
    "\n",
    "gs = GridSearchCV(pipe, params, n_jobs=8)"
   ]
  },
  {
   "cell_type": "code",
   "execution_count": 15,
   "id": "d8a22d9e-95eb-442f-b960-bc59cc666698",
   "metadata": {},
   "outputs": [
    {
     "name": "stdout",
     "output_type": "stream",
     "text": [
      "CPU times: user 2.75 s, sys: 1.69 s, total: 4.44 s\n",
      "Wall time: 1min 28s\n"
     ]
    },
    {
     "data": {
      "text/html": [
       "<style>#sk-container-id-1 {color: black;background-color: white;}#sk-container-id-1 pre{padding: 0;}#sk-container-id-1 div.sk-toggleable {background-color: white;}#sk-container-id-1 label.sk-toggleable__label {cursor: pointer;display: block;width: 100%;margin-bottom: 0;padding: 0.3em;box-sizing: border-box;text-align: center;}#sk-container-id-1 label.sk-toggleable__label-arrow:before {content: \"▸\";float: left;margin-right: 0.25em;color: #696969;}#sk-container-id-1 label.sk-toggleable__label-arrow:hover:before {color: black;}#sk-container-id-1 div.sk-estimator:hover label.sk-toggleable__label-arrow:before {color: black;}#sk-container-id-1 div.sk-toggleable__content {max-height: 0;max-width: 0;overflow: hidden;text-align: left;background-color: #f0f8ff;}#sk-container-id-1 div.sk-toggleable__content pre {margin: 0.2em;color: black;border-radius: 0.25em;background-color: #f0f8ff;}#sk-container-id-1 input.sk-toggleable__control:checked~div.sk-toggleable__content {max-height: 200px;max-width: 100%;overflow: auto;}#sk-container-id-1 input.sk-toggleable__control:checked~label.sk-toggleable__label-arrow:before {content: \"▾\";}#sk-container-id-1 div.sk-estimator input.sk-toggleable__control:checked~label.sk-toggleable__label {background-color: #d4ebff;}#sk-container-id-1 div.sk-label input.sk-toggleable__control:checked~label.sk-toggleable__label {background-color: #d4ebff;}#sk-container-id-1 input.sk-hidden--visually {border: 0;clip: rect(1px 1px 1px 1px);clip: rect(1px, 1px, 1px, 1px);height: 1px;margin: -1px;overflow: hidden;padding: 0;position: absolute;width: 1px;}#sk-container-id-1 div.sk-estimator {font-family: monospace;background-color: #f0f8ff;border: 1px dotted black;border-radius: 0.25em;box-sizing: border-box;margin-bottom: 0.5em;}#sk-container-id-1 div.sk-estimator:hover {background-color: #d4ebff;}#sk-container-id-1 div.sk-parallel-item::after {content: \"\";width: 100%;border-bottom: 1px solid gray;flex-grow: 1;}#sk-container-id-1 div.sk-label:hover label.sk-toggleable__label {background-color: #d4ebff;}#sk-container-id-1 div.sk-serial::before {content: \"\";position: absolute;border-left: 1px solid gray;box-sizing: border-box;top: 0;bottom: 0;left: 50%;z-index: 0;}#sk-container-id-1 div.sk-serial {display: flex;flex-direction: column;align-items: center;background-color: white;padding-right: 0.2em;padding-left: 0.2em;position: relative;}#sk-container-id-1 div.sk-item {position: relative;z-index: 1;}#sk-container-id-1 div.sk-parallel {display: flex;align-items: stretch;justify-content: center;background-color: white;position: relative;}#sk-container-id-1 div.sk-item::before, #sk-container-id-1 div.sk-parallel-item::before {content: \"\";position: absolute;border-left: 1px solid gray;box-sizing: border-box;top: 0;bottom: 0;left: 50%;z-index: -1;}#sk-container-id-1 div.sk-parallel-item {display: flex;flex-direction: column;z-index: 1;position: relative;background-color: white;}#sk-container-id-1 div.sk-parallel-item:first-child::after {align-self: flex-end;width: 50%;}#sk-container-id-1 div.sk-parallel-item:last-child::after {align-self: flex-start;width: 50%;}#sk-container-id-1 div.sk-parallel-item:only-child::after {width: 0;}#sk-container-id-1 div.sk-dashed-wrapped {border: 1px dashed gray;margin: 0 0.4em 0.5em 0.4em;box-sizing: border-box;padding-bottom: 0.4em;background-color: white;}#sk-container-id-1 div.sk-label label {font-family: monospace;font-weight: bold;display: inline-block;line-height: 1.2em;}#sk-container-id-1 div.sk-label-container {text-align: center;}#sk-container-id-1 div.sk-container {/* jupyter's `normalize.less` sets `[hidden] { display: none; }` but bootstrap.min.css set `[hidden] { display: none !important; }` so we also need the `!important` here to be able to override the default hidden behavior on the sphinx rendered scikit-learn.org. See: https://github.com/scikit-learn/scikit-learn/issues/21755 */display: inline-block !important;position: relative;}#sk-container-id-1 div.sk-text-repr-fallback {display: none;}</style><div id=\"sk-container-id-1\" class=\"sk-top-container\"><div class=\"sk-text-repr-fallback\"><pre>GridSearchCV(estimator=Pipeline(steps=[(&#x27;cvec&#x27;, CountVectorizer()),\n",
       "                                       (&#x27;nb&#x27;, MultinomialNB())]),\n",
       "             n_jobs=8,\n",
       "             param_grid={&#x27;cvec__max_features&#x27;: [1000, 2000, 3000, None],\n",
       "                         &#x27;cvec__min_df&#x27;: [1, 2],\n",
       "                         &#x27;cvec__ngram_range&#x27;: [(1, 1), (1, 2), (2, 3)],\n",
       "                         &#x27;cvec__stop_words&#x27;: [None,\n",
       "                                              [&#x27;i&#x27;, &#x27;me&#x27;, &#x27;my&#x27;, &#x27;myself&#x27;, &#x27;we&#x27;,\n",
       "                                               &#x27;our&#x27;, &#x27;ours&#x27;, &#x27;ourselves&#x27;,\n",
       "                                               &#x27;you&#x27;, &quot;you&#x27;re&quot;, &quot;you&#x27;ve&quot;,\n",
       "                                               &quot;you&#x27;ll&quot;, &quot;you&#x27;d&quot;, &#x27;your&#x27;,\n",
       "                                               &#x27;yours&#x27;, &#x27;yourself&#x27;,\n",
       "                                               &#x27;yourselves&#x27;, &#x27;he&#x27;, &#x27;him&#x27;, &#x27;his&#x27;,\n",
       "                                               &#x27;himself&#x27;, &#x27;she&#x27;, &quot;she&#x27;s&quot;, &#x27;her&#x27;,\n",
       "                                               &#x27;hers&#x27;, &#x27;herself&#x27;, &#x27;it&#x27;, &quot;it&#x27;s&quot;,\n",
       "                                               &#x27;its&#x27;, &#x27;itself&#x27;, ...]]})</pre><b>In a Jupyter environment, please rerun this cell to show the HTML representation or trust the notebook. <br />On GitHub, the HTML representation is unable to render, please try loading this page with nbviewer.org.</b></div><div class=\"sk-container\" hidden><div class=\"sk-item sk-dashed-wrapped\"><div class=\"sk-label-container\"><div class=\"sk-label sk-toggleable\"><input class=\"sk-toggleable__control sk-hidden--visually\" id=\"sk-estimator-id-1\" type=\"checkbox\" ><label for=\"sk-estimator-id-1\" class=\"sk-toggleable__label sk-toggleable__label-arrow\">GridSearchCV</label><div class=\"sk-toggleable__content\"><pre>GridSearchCV(estimator=Pipeline(steps=[(&#x27;cvec&#x27;, CountVectorizer()),\n",
       "                                       (&#x27;nb&#x27;, MultinomialNB())]),\n",
       "             n_jobs=8,\n",
       "             param_grid={&#x27;cvec__max_features&#x27;: [1000, 2000, 3000, None],\n",
       "                         &#x27;cvec__min_df&#x27;: [1, 2],\n",
       "                         &#x27;cvec__ngram_range&#x27;: [(1, 1), (1, 2), (2, 3)],\n",
       "                         &#x27;cvec__stop_words&#x27;: [None,\n",
       "                                              [&#x27;i&#x27;, &#x27;me&#x27;, &#x27;my&#x27;, &#x27;myself&#x27;, &#x27;we&#x27;,\n",
       "                                               &#x27;our&#x27;, &#x27;ours&#x27;, &#x27;ourselves&#x27;,\n",
       "                                               &#x27;you&#x27;, &quot;you&#x27;re&quot;, &quot;you&#x27;ve&quot;,\n",
       "                                               &quot;you&#x27;ll&quot;, &quot;you&#x27;d&quot;, &#x27;your&#x27;,\n",
       "                                               &#x27;yours&#x27;, &#x27;yourself&#x27;,\n",
       "                                               &#x27;yourselves&#x27;, &#x27;he&#x27;, &#x27;him&#x27;, &#x27;his&#x27;,\n",
       "                                               &#x27;himself&#x27;, &#x27;she&#x27;, &quot;she&#x27;s&quot;, &#x27;her&#x27;,\n",
       "                                               &#x27;hers&#x27;, &#x27;herself&#x27;, &#x27;it&#x27;, &quot;it&#x27;s&quot;,\n",
       "                                               &#x27;its&#x27;, &#x27;itself&#x27;, ...]]})</pre></div></div></div><div class=\"sk-parallel\"><div class=\"sk-parallel-item\"><div class=\"sk-item\"><div class=\"sk-label-container\"><div class=\"sk-label sk-toggleable\"><input class=\"sk-toggleable__control sk-hidden--visually\" id=\"sk-estimator-id-2\" type=\"checkbox\" ><label for=\"sk-estimator-id-2\" class=\"sk-toggleable__label sk-toggleable__label-arrow\">estimator: Pipeline</label><div class=\"sk-toggleable__content\"><pre>Pipeline(steps=[(&#x27;cvec&#x27;, CountVectorizer()), (&#x27;nb&#x27;, MultinomialNB())])</pre></div></div></div><div class=\"sk-serial\"><div class=\"sk-item\"><div class=\"sk-serial\"><div class=\"sk-item\"><div class=\"sk-estimator sk-toggleable\"><input class=\"sk-toggleable__control sk-hidden--visually\" id=\"sk-estimator-id-3\" type=\"checkbox\" ><label for=\"sk-estimator-id-3\" class=\"sk-toggleable__label sk-toggleable__label-arrow\">CountVectorizer</label><div class=\"sk-toggleable__content\"><pre>CountVectorizer()</pre></div></div></div><div class=\"sk-item\"><div class=\"sk-estimator sk-toggleable\"><input class=\"sk-toggleable__control sk-hidden--visually\" id=\"sk-estimator-id-4\" type=\"checkbox\" ><label for=\"sk-estimator-id-4\" class=\"sk-toggleable__label sk-toggleable__label-arrow\">MultinomialNB</label><div class=\"sk-toggleable__content\"><pre>MultinomialNB()</pre></div></div></div></div></div></div></div></div></div></div></div></div>"
      ],
      "text/plain": [
       "GridSearchCV(estimator=Pipeline(steps=[('cvec', CountVectorizer()),\n",
       "                                       ('nb', MultinomialNB())]),\n",
       "             n_jobs=8,\n",
       "             param_grid={'cvec__max_features': [1000, 2000, 3000, None],\n",
       "                         'cvec__min_df': [1, 2],\n",
       "                         'cvec__ngram_range': [(1, 1), (1, 2), (2, 3)],\n",
       "                         'cvec__stop_words': [None,\n",
       "                                              ['i', 'me', 'my', 'myself', 'we',\n",
       "                                               'our', 'ours', 'ourselves',\n",
       "                                               'you', \"you're\", \"you've\",\n",
       "                                               \"you'll\", \"you'd\", 'your',\n",
       "                                               'yours', 'yourself',\n",
       "                                               'yourselves', 'he', 'him', 'his',\n",
       "                                               'himself', 'she', \"she's\", 'her',\n",
       "                                               'hers', 'herself', 'it', \"it's\",\n",
       "                                               'its', 'itself', ...]]})"
      ]
     },
     "execution_count": 15,
     "metadata": {},
     "output_type": "execute_result"
    }
   ],
   "source": [
    "%%time\n",
    "gs.fit(X_train, y_train)"
   ]
  },
  {
   "cell_type": "code",
   "execution_count": 17,
   "id": "89d67057-4cb1-4aab-9eb3-61a37356d500",
   "metadata": {},
   "outputs": [
    {
     "data": {
      "text/plain": [
       "array(['zero issues', 'zero reason', 'zero sense', 'zero sum',\n",
       "       'zimmerman', 'zipper', 'zombie', 'zone', 'zones', 'zoom'],\n",
       "      dtype=object)"
      ]
     },
     "execution_count": 17,
     "metadata": {},
     "output_type": "execute_result"
    }
   ],
   "source": [
    "columns = gs.best_estimator_[0].get_feature_names_out()\n",
    "columns[-10:]"
   ]
  },
  {
   "cell_type": "code",
   "execution_count": 18,
   "id": "b3b6039f-fea9-46c3-adaa-531af8e614eb",
   "metadata": {},
   "outputs": [],
   "source": [
    "cv_fit = gs.best_estimator_[0].transform(X_train)"
   ]
  },
  {
   "cell_type": "code",
   "execution_count": 20,
   "id": "0f23f1e2-e782-4ba2-8f4b-04b457736f2b",
   "metadata": {},
   "outputs": [
    {
     "data": {
      "text/html": [
       "<div>\n",
       "<style scoped>\n",
       "    .dataframe tbody tr th:only-of-type {\n",
       "        vertical-align: middle;\n",
       "    }\n",
       "\n",
       "    .dataframe tbody tr th {\n",
       "        vertical-align: top;\n",
       "    }\n",
       "\n",
       "    .dataframe thead th {\n",
       "        text-align: right;\n",
       "    }\n",
       "</style>\n",
       "<table border=\"1\" class=\"dataframe\">\n",
       "  <thead>\n",
       "    <tr style=\"text-align: right;\">\n",
       "      <th></th>\n",
       "      <th>00</th>\n",
       "      <th>000</th>\n",
       "      <th>000 000</th>\n",
       "      <th>000 planned</th>\n",
       "      <th>000 usd</th>\n",
       "      <th>000 year</th>\n",
       "      <th>01</th>\n",
       "      <th>01 31</th>\n",
       "      <th>01 sotomayor</th>\n",
       "      <th>01 women</th>\n",
       "      <th>...</th>\n",
       "      <th>zero issues</th>\n",
       "      <th>zero reason</th>\n",
       "      <th>zero sense</th>\n",
       "      <th>zero sum</th>\n",
       "      <th>zimmerman</th>\n",
       "      <th>zipper</th>\n",
       "      <th>zombie</th>\n",
       "      <th>zone</th>\n",
       "      <th>zones</th>\n",
       "      <th>zoom</th>\n",
       "    </tr>\n",
       "  </thead>\n",
       "  <tbody>\n",
       "    <tr>\n",
       "      <th>0</th>\n",
       "      <td>0</td>\n",
       "      <td>0</td>\n",
       "      <td>0</td>\n",
       "      <td>0</td>\n",
       "      <td>0</td>\n",
       "      <td>0</td>\n",
       "      <td>0</td>\n",
       "      <td>0</td>\n",
       "      <td>0</td>\n",
       "      <td>0</td>\n",
       "      <td>...</td>\n",
       "      <td>0</td>\n",
       "      <td>0</td>\n",
       "      <td>0</td>\n",
       "      <td>0</td>\n",
       "      <td>0</td>\n",
       "      <td>0</td>\n",
       "      <td>0</td>\n",
       "      <td>0</td>\n",
       "      <td>0</td>\n",
       "      <td>0</td>\n",
       "    </tr>\n",
       "    <tr>\n",
       "      <th>1</th>\n",
       "      <td>0</td>\n",
       "      <td>0</td>\n",
       "      <td>0</td>\n",
       "      <td>0</td>\n",
       "      <td>0</td>\n",
       "      <td>0</td>\n",
       "      <td>0</td>\n",
       "      <td>0</td>\n",
       "      <td>0</td>\n",
       "      <td>0</td>\n",
       "      <td>...</td>\n",
       "      <td>0</td>\n",
       "      <td>0</td>\n",
       "      <td>0</td>\n",
       "      <td>0</td>\n",
       "      <td>0</td>\n",
       "      <td>0</td>\n",
       "      <td>0</td>\n",
       "      <td>0</td>\n",
       "      <td>0</td>\n",
       "      <td>0</td>\n",
       "    </tr>\n",
       "    <tr>\n",
       "      <th>2</th>\n",
       "      <td>0</td>\n",
       "      <td>0</td>\n",
       "      <td>0</td>\n",
       "      <td>0</td>\n",
       "      <td>0</td>\n",
       "      <td>0</td>\n",
       "      <td>0</td>\n",
       "      <td>0</td>\n",
       "      <td>0</td>\n",
       "      <td>0</td>\n",
       "      <td>...</td>\n",
       "      <td>0</td>\n",
       "      <td>0</td>\n",
       "      <td>0</td>\n",
       "      <td>0</td>\n",
       "      <td>0</td>\n",
       "      <td>0</td>\n",
       "      <td>0</td>\n",
       "      <td>0</td>\n",
       "      <td>0</td>\n",
       "      <td>0</td>\n",
       "    </tr>\n",
       "    <tr>\n",
       "      <th>3</th>\n",
       "      <td>0</td>\n",
       "      <td>0</td>\n",
       "      <td>0</td>\n",
       "      <td>0</td>\n",
       "      <td>0</td>\n",
       "      <td>0</td>\n",
       "      <td>0</td>\n",
       "      <td>0</td>\n",
       "      <td>0</td>\n",
       "      <td>0</td>\n",
       "      <td>...</td>\n",
       "      <td>0</td>\n",
       "      <td>0</td>\n",
       "      <td>0</td>\n",
       "      <td>0</td>\n",
       "      <td>0</td>\n",
       "      <td>0</td>\n",
       "      <td>0</td>\n",
       "      <td>0</td>\n",
       "      <td>0</td>\n",
       "      <td>0</td>\n",
       "    </tr>\n",
       "    <tr>\n",
       "      <th>4</th>\n",
       "      <td>0</td>\n",
       "      <td>0</td>\n",
       "      <td>0</td>\n",
       "      <td>0</td>\n",
       "      <td>0</td>\n",
       "      <td>0</td>\n",
       "      <td>0</td>\n",
       "      <td>0</td>\n",
       "      <td>0</td>\n",
       "      <td>0</td>\n",
       "      <td>...</td>\n",
       "      <td>0</td>\n",
       "      <td>0</td>\n",
       "      <td>0</td>\n",
       "      <td>0</td>\n",
       "      <td>0</td>\n",
       "      <td>0</td>\n",
       "      <td>0</td>\n",
       "      <td>0</td>\n",
       "      <td>0</td>\n",
       "      <td>0</td>\n",
       "    </tr>\n",
       "  </tbody>\n",
       "</table>\n",
       "<p>5 rows × 41920 columns</p>\n",
       "</div>"
      ],
      "text/plain": [
       "   00  000  000 000  000 planned  000 usd  000 year  01  01 31  01 sotomayor  \\\n",
       "0   0    0        0            0        0         0   0      0             0   \n",
       "1   0    0        0            0        0         0   0      0             0   \n",
       "2   0    0        0            0        0         0   0      0             0   \n",
       "3   0    0        0            0        0         0   0      0             0   \n",
       "4   0    0        0            0        0         0   0      0             0   \n",
       "\n",
       "   01 women  ...  zero issues  zero reason  zero sense  zero sum  zimmerman  \\\n",
       "0         0  ...            0            0           0         0          0   \n",
       "1         0  ...            0            0           0         0          0   \n",
       "2         0  ...            0            0           0         0          0   \n",
       "3         0  ...            0            0           0         0          0   \n",
       "4         0  ...            0            0           0         0          0   \n",
       "\n",
       "   zipper  zombie  zone  zones  zoom  \n",
       "0       0       0     0      0     0  \n",
       "1       0       0     0      0     0  \n",
       "2       0       0     0      0     0  \n",
       "3       0       0     0      0     0  \n",
       "4       0       0     0      0     0  \n",
       "\n",
       "[5 rows x 41920 columns]"
      ]
     },
     "execution_count": 20,
     "metadata": {},
     "output_type": "execute_result"
    }
   ],
   "source": [
    "result_df = pd.DataFrame(data = cv_fit.toarray(), columns=columns)\n",
    "result_df.head()"
   ]
  },
  {
   "cell_type": "code",
   "execution_count": 23,
   "id": "1a37c234-3689-4102-8854-789a6400a81e",
   "metadata": {},
   "outputs": [],
   "source": [
    "term_freq = np.sum(result_df, axis=0)"
   ]
  },
  {
   "cell_type": "code",
   "execution_count": 41,
   "id": "15c9af1a-b4af-402b-afae-09762909ac87",
   "metadata": {},
   "outputs": [],
   "source": [
    "most_common = term_freq.sort_values(ascending=False).head(10)"
   ]
  },
  {
   "cell_type": "code",
   "execution_count": 50,
   "id": "bf41e697-eb9c-4008-a719-4ae5f0cb4ad1",
   "metadata": {},
   "outputs": [
    {
     "data": {
      "image/png": "[encoded data removed]",
      "text/plain": [
       "<Figure size 500x300 with 1 Axes>"
      ]
     },
     "metadata": {},
     "output_type": "display_data"
    }
   ],
   "source": [
    "plt.figure(figsize=(5,3))\n",
    "plt.title('Most common terms')\n",
    "most_common.plot(kind='bar', color='teal');"
   ]
  },
  {
   "cell_type": "code",
   "execution_count": null,
   "id": "470544bf-9f21-46cb-807c-d46b6caa8ba9",
   "metadata": {},
   "outputs": [],
   "source": [
    "# HERE\n",
    "# RELEVANT EDA - consult 405-classification metrics to discuss the confusion matrix and to plot distributions, consult 502-lab-nlp to see what kind of EDA\n",
    "gs.best_params_"
   ]
  },
  {
   "cell_type": "code",
   "execution_count": null,
   "id": "b2e34783-b4d2-40d4-be3c-a92d43889e2a",
   "metadata": {},
   "outputs": [],
   "source": [
    "pd.DataFrame(gs.cv_results_).sort_values('mean_test_score', ascending=False)[:5]"
   ]
  },
  {
   "cell_type": "code",
   "execution_count": null,
   "id": "88b1bc86-08bd-4b89-acc3-e422aa072b3b",
   "metadata": {},
   "outputs": [],
   "source": [
    "gs.score(X_train, y_train)"
   ]
  },
  {
   "cell_type": "code",
   "execution_count": null,
   "id": "9b2be978-8592-4d38-8234-4f94f34fde97",
   "metadata": {},
   "outputs": [],
   "source": [
    "gs.score(X_test, y_test)"
   ]
  },
  {
   "cell_type": "code",
   "execution_count": null,
   "id": "5bc45aaf-097c-4b2b-a39b-a128d3ac0e2d",
   "metadata": {},
   "outputs": [],
   "source": [
    "y_hat = gs.predict(X_test)\n",
    "confusion_matrix(y_test, y_hat)"
   ]
  },
  {
   "cell_type": "code",
   "execution_count": null,
   "id": "fff2dd9c-0a2b-479f-9a23-2dc16fec7ea7",
   "metadata": {},
   "outputs": [],
   "source": [
    "ConfusionMatrixDisplay.from_estimator(gs, X_test, y_test, cmap='Blues');"
   ]
  },
  {
   "cell_type": "markdown",
   "id": "ad0ebdd2-0fed-4d66-af24-968080fcfa20",
   "metadata": {},
   "source": [
    "This model is bad.  Discuss the accuracy, specificity, sensitivity, precision here."
   ]
  },
  {
   "cell_type": "code",
   "execution_count": null,
   "id": "ddb6fe6c-d85b-43b3-8f19-fd985628ee9d",
   "metadata": {
    "scrolled": true
   },
   "outputs": [],
   "source": [
    "# Examine the best params\n",
    "gs.best_params_"
   ]
  },
  {
   "cell_type": "code",
   "execution_count": null,
   "id": "da7872f6-2e73-40b7-82db-15213300ee5f",
   "metadata": {},
   "outputs": [],
   "source": []
  },
  {
   "cell_type": "code",
   "execution_count": null,
   "id": "fa436357-d1ef-4513-af6b-e7ed86358935",
   "metadata": {
    "scrolled": true
   },
   "outputs": [],
   "source": [
    "sw"
   ]
  },
  {
   "cell_type": "code",
   "execution_count": null,
   "id": "d65e8618-398c-4bb6-9395-4fbd82573d1c",
   "metadata": {},
   "outputs": [],
   "source": [
    "gs.best_estimator_"
   ]
  },
  {
   "cell_type": "code",
   "execution_count": null,
   "id": "6bbfd625-fbe8-4dff-936c-4b9342005fb4",
   "metadata": {},
   "outputs": [],
   "source": [
    "gs.best_index_"
   ]
  },
  {
   "cell_type": "code",
   "execution_count": null,
   "id": "4d9a7074-1848-474e-bc7d-e39eb7d4ac30",
   "metadata": {},
   "outputs": [],
   "source": [
    "gs.best_score_"
   ]
  },
  {
   "cell_type": "markdown",
   "id": "e105b672-ec64-45fd-96b9-136d1f899ca0",
   "metadata": {},
   "source": [
    "The model is bad.  But the best estimator in this gridsearch removed stopwords, so we keep it in the model.  Or, rather, let's build this up from smaller grid searches. Or, utitilzie random search to cover hyperparamter space more efficiently."
   ]
  },
  {
   "cell_type": "code",
   "execution_count": null,
   "id": "0bdde591-d2bd-430c-9641-174788f91de2",
   "metadata": {},
   "outputs": [],
   "source": [
    "# Given the warning in CountVectorizer that their stop_words for 'english' are not great, we use the nltk library stop_words\n",
    "sw = stopwords.words('english')\n",
    "\n",
    "pipe = Pipeline([\n",
    "    ('cvec', CountVectorizer()),\n",
    "    ('nb', MultinomialNB())\n",
    "])\n",
    "\n",
    "params = {\n",
    "    'cvec__stop_words' :[sw],\n",
    "    # 'cvec__binary': [False, True],\n",
    "    'cvec__min_df': [1, 2],\n",
    "    # 'cvec__max_df: [0.98]\n",
    "    'cvec__ngram_range': [(1,1), (1,2), (1, 3)],\n",
    "    # 'cvec__max_features': [2000, 3000, None],\n",
    "}\n",
    "\n",
    "gs = GridSearchCV(pipe, params, n_jobs=4)"
   ]
  },
  {
   "cell_type": "code",
   "execution_count": null,
   "id": "b9fcc72b-448b-4a7c-9025-3ba730127c92",
   "metadata": {},
   "outputs": [],
   "source": [
    "%%time\n",
    "gs.fit(X_train, y_train)"
   ]
  },
  {
   "cell_type": "code",
   "execution_count": null,
   "id": "765e6882-24d7-4df8-9d37-b677352a01f1",
   "metadata": {},
   "outputs": [],
   "source": [
    "gs.score(X_train, y_train)"
   ]
  },
  {
   "cell_type": "code",
   "execution_count": null,
   "id": "6b202cbd-b5f8-45c2-b785-61eeae86e448",
   "metadata": {},
   "outputs": [],
   "source": [
    "gs.score(X_test, y_test)"
   ]
  },
  {
   "cell_type": "code",
   "execution_count": null,
   "id": "1a5ffd1f-89b6-4c61-b9ff-5ab9c3d16022",
   "metadata": {},
   "outputs": [],
   "source": []
  },
  {
   "cell_type": "code",
   "execution_count": null,
   "id": "a81c989b-eb91-4af0-9e8c-ee3d63cbb1a8",
   "metadata": {
    "scrolled": true
   },
   "outputs": [],
   "source": [
    "ConfusionMatrixDisplay.from_estimator(gs, X_test, y_test, cmap='Blues');"
   ]
  },
  {
   "cell_type": "code",
   "execution_count": null,
   "id": "d204114b-5c47-4196-b0fb-6ed81af21589",
   "metadata": {
    "scrolled": true
   },
   "outputs": [],
   "source": [
    "gs.best_params_"
   ]
  },
  {
   "cell_type": "code",
   "execution_count": null,
   "id": "4c3d90ff-6e25-455e-a954-c6b8e91d84b0",
   "metadata": {},
   "outputs": [],
   "source": [
    "# Given the warning in CountVectorizer that their stop_words for 'english' are not great, we use the nltk library stop_words\n",
    "sw = stopwords.words('english')\n",
    "\n",
    "pipe = Pipeline([\n",
    "    ('cvec', CountVectorizer()),\n",
    "    ('nb', MultinomialNB())\n",
    "])\n",
    "\n",
    "params = {\n",
    "    'cvec__stop_words' :[None],\n",
    "    # 'cvec__binary': [False, True],\n",
    "    'cvec__min_df': [1, 2],\n",
    "    # 'cvec__max_df: [0.98]\n",
    "    'cvec__ngram_range': [ (1,2)],\n",
    "    'cvec__max_features': [2000, 3000, None],\n",
    "}\n",
    "\n",
    "gs = GridSearchCV(pipe, params, n_jobs=4)"
   ]
  },
  {
   "cell_type": "code",
   "execution_count": null,
   "id": "8c337936-0d56-436f-8d27-87b316c71cb4",
   "metadata": {},
   "outputs": [],
   "source": [
    "%%time\n",
    "gs.fit(X_train, y_train)"
   ]
  },
  {
   "cell_type": "code",
   "execution_count": null,
   "id": "ca1e011f-796d-436d-8e2e-4217898b93a1",
   "metadata": {},
   "outputs": [],
   "source": [
    "gs.best_params_"
   ]
  },
  {
   "cell_type": "code",
   "execution_count": null,
   "id": "1ee8cd8e-7ea5-4dc0-9c76-84a7c983bf03",
   "metadata": {},
   "outputs": [],
   "source": [
    "gs.score(X_train, y_train)"
   ]
  },
  {
   "cell_type": "code",
   "execution_count": null,
   "id": "bfe8317a-7dca-4110-b7f4-af7cef68af10",
   "metadata": {},
   "outputs": [],
   "source": [
    "gs.score(X_test, y_test)"
   ]
  },
  {
   "cell_type": "code",
   "execution_count": null,
   "id": "c6c000b1-53e4-4c0d-bccc-d998cf193722",
   "metadata": {},
   "outputs": [],
   "source": []
  }
 ],
 "metadata": {
  "kernelspec": {
   "display_name": "Python 3 (ipykernel)",
   "language": "python",
   "name": "python3"
  },
  "language_info": {
   "codemirror_mode": {
    "name": "ipython",
    "version": 3
   },
   "file_extension": ".py",
   "mimetype": "text/x-python",
   "name": "python",
   "nbconvert_exporter": "python",
   "pygments_lexer": "ipython3",
   "version": "3.11.5"
  }
 },
 "nbformat": 4,
 "nbformat_minor": 5
}
